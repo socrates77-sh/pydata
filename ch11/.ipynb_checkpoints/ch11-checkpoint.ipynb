{
 "cells": [
  {
   "cell_type": "code",
   "execution_count": 1,
   "metadata": {
    "collapsed": true
   },
   "outputs": [],
   "source": [
    "from datetime import datetime\n",
    "from datetime import timedelta, time\n",
    "from dateutil.parser import parse\n",
    "import pandas as pd\n",
    "from pandas import Series, DataFrame\n",
    "import numpy as np\n",
    "import matplotlib.pyplot as plt"
   ]
  },
  {
   "cell_type": "code",
   "execution_count": 2,
   "metadata": {
    "collapsed": false
   },
   "outputs": [
    {
     "data": {
      "text/plain": [
       "2012-06-13    0.247691\n",
       "2012-06-20    0.820826\n",
       "2012-06-27   -0.939141\n",
       "Freq: W-WED, dtype: float64"
      ]
     },
     "execution_count": 2,
     "metadata": {},
     "output_type": "execute_result"
    }
   ],
   "source": [
    "ts1 = Series(np.random.randn(3),\n",
    "             index=pd.date_range('2012-6-13', periods=3, freq='W-WED'))\n",
    "ts1"
   ]
  },
  {
   "cell_type": "code",
   "execution_count": 3,
   "metadata": {
    "collapsed": false
   },
   "outputs": [
    {
     "data": {
      "text/plain": [
       "DatetimeIndexResampler [freq=<BusinessDay>, axis=0, closed=left, label=left, convention=start, base=0]"
      ]
     },
     "execution_count": 3,
     "metadata": {},
     "output_type": "execute_result"
    }
   ],
   "source": [
    "ts1.resample('B')\n"
   ]
  },
  {
   "cell_type": "code",
   "execution_count": 4,
   "metadata": {
    "collapsed": false
   },
   "outputs": [
    {
     "name": "stderr",
     "output_type": "stream",
     "text": [
      "e:\\python34\\lib\\site-packages\\ipykernel\\__main__.py:1: FutureWarning: fill_method is deprecated to .resample()\n",
      "the new syntax is .resample(...).ffill()\n",
      "  if __name__ == '__main__':\n"
     ]
    },
    {
     "data": {
      "text/plain": [
       "2012-06-13    0.247691\n",
       "2012-06-14    0.247691\n",
       "2012-06-15    0.247691\n",
       "2012-06-18    0.247691\n",
       "2012-06-19    0.247691\n",
       "2012-06-20    0.820826\n",
       "2012-06-21    0.820826\n",
       "2012-06-22    0.820826\n",
       "2012-06-25    0.820826\n",
       "2012-06-26    0.820826\n",
       "2012-06-27   -0.939141\n",
       "Freq: B, dtype: float64"
      ]
     },
     "execution_count": 4,
     "metadata": {},
     "output_type": "execute_result"
    }
   ],
   "source": [
    "ts1.resample('B', fill_method='ffill')\n"
   ]
  },
  {
   "cell_type": "code",
   "execution_count": 5,
   "metadata": {
    "collapsed": true
   },
   "outputs": [],
   "source": [
    "gdp = Series([1.78, 1.94, 2.08, 2.01, 2.15, 2.31, 2.46],\n",
    "             index=pd.period_range('1984Q2', periods=7, freq='Q-SEP'))\n",
    "infl = Series([0.024, 0.045, 0.037, 0.04],\n",
    "              index=pd.period_range('1982', periods=4, freq='A-DEC'))\n"
   ]
  },
  {
   "cell_type": "code",
   "execution_count": 6,
   "metadata": {
    "collapsed": false
   },
   "outputs": [
    {
     "data": {
      "text/plain": [
       "1984Q2    1.78\n",
       "1984Q3    1.94\n",
       "1984Q4    2.08\n",
       "1985Q1    2.01\n",
       "1985Q2    2.15\n",
       "1985Q3    2.31\n",
       "1985Q4    2.46\n",
       "Freq: Q-SEP, dtype: float64"
      ]
     },
     "execution_count": 6,
     "metadata": {},
     "output_type": "execute_result"
    }
   ],
   "source": [
    "gdp"
   ]
  },
  {
   "cell_type": "code",
   "execution_count": 7,
   "metadata": {
    "collapsed": false
   },
   "outputs": [
    {
     "data": {
      "text/plain": [
       "1982    0.024\n",
       "1983    0.045\n",
       "1984    0.037\n",
       "1985    0.040\n",
       "Freq: A-DEC, dtype: float64"
      ]
     },
     "execution_count": 7,
     "metadata": {},
     "output_type": "execute_result"
    }
   ],
   "source": [
    "infl"
   ]
  },
  {
   "cell_type": "code",
   "execution_count": 8,
   "metadata": {
    "collapsed": false
   },
   "outputs": [
    {
     "data": {
      "text/plain": [
       "1983Q1    0.024\n",
       "1984Q1    0.045\n",
       "1985Q1    0.037\n",
       "1986Q1    0.040\n",
       "Freq: Q-SEP, dtype: float64"
      ]
     },
     "execution_count": 8,
     "metadata": {},
     "output_type": "execute_result"
    }
   ],
   "source": [
    "infl_q=infl.asfreq('Q-SEP', how='end')\n",
    "infl_q"
   ]
  },
  {
   "cell_type": "code",
   "execution_count": 9,
   "metadata": {
    "collapsed": false
   },
   "outputs": [
    {
     "data": {
      "text/plain": [
       "1984Q2    0.045\n",
       "1984Q3    0.045\n",
       "1984Q4    0.045\n",
       "1985Q1    0.037\n",
       "1985Q2    0.037\n",
       "1985Q3    0.037\n",
       "1985Q4    0.037\n",
       "Freq: Q-SEP, dtype: float64"
      ]
     },
     "execution_count": 9,
     "metadata": {},
     "output_type": "execute_result"
    }
   ],
   "source": [
    "infl_q.reindex(gdp.index, method='ffill')\n"
   ]
  },
  {
   "cell_type": "code",
   "execution_count": 10,
   "metadata": {
    "collapsed": false
   },
   "outputs": [
    {
     "data": {
      "text/plain": [
       "DatetimeIndex(['2012-06-01 09:30:00', '2012-06-01 09:31:00',\n",
       "               '2012-06-01 09:32:00', '2012-06-01 09:33:00',\n",
       "               '2012-06-01 09:34:00', '2012-06-01 09:35:00',\n",
       "               '2012-06-01 09:36:00', '2012-06-01 09:37:00',\n",
       "               '2012-06-01 09:38:00', '2012-06-01 09:39:00',\n",
       "               ...\n",
       "               '2012-06-01 15:50:00', '2012-06-01 15:51:00',\n",
       "               '2012-06-01 15:52:00', '2012-06-01 15:53:00',\n",
       "               '2012-06-01 15:54:00', '2012-06-01 15:55:00',\n",
       "               '2012-06-01 15:56:00', '2012-06-01 15:57:00',\n",
       "               '2012-06-01 15:58:00', '2012-06-01 15:59:00'],\n",
       "              dtype='datetime64[ns]', length=390, freq='T')"
      ]
     },
     "execution_count": 10,
     "metadata": {},
     "output_type": "execute_result"
    }
   ],
   "source": [
    "rng = pd.date_range('2012-6-1 9:30', '2012-6-1 15:59', freq='T')\n",
    "rng"
   ]
  },
  {
   "cell_type": "code",
   "execution_count": 11,
   "metadata": {
    "collapsed": false
   },
   "outputs": [
    {
     "data": {
      "text/plain": [
       "DatetimeIndex(['2012-06-01 09:30:00', '2012-06-01 09:31:00',\n",
       "               '2012-06-01 09:32:00', '2012-06-01 09:33:00',\n",
       "               '2012-06-01 09:34:00', '2012-06-01 09:35:00',\n",
       "               '2012-06-01 09:36:00', '2012-06-01 09:37:00',\n",
       "               '2012-06-01 09:38:00', '2012-06-01 09:39:00',\n",
       "               ...\n",
       "               '2012-06-06 15:50:00', '2012-06-06 15:51:00',\n",
       "               '2012-06-06 15:52:00', '2012-06-06 15:53:00',\n",
       "               '2012-06-06 15:54:00', '2012-06-06 15:55:00',\n",
       "               '2012-06-06 15:56:00', '2012-06-06 15:57:00',\n",
       "               '2012-06-06 15:58:00', '2012-06-06 15:59:00'],\n",
       "              dtype='datetime64[ns]', length=1560, freq=None)"
      ]
     },
     "execution_count": 11,
     "metadata": {},
     "output_type": "execute_result"
    }
   ],
   "source": [
    "rng = rng.append([rng + pd.offsets.BDay(i) for i in range(1, 4)])\n",
    "rng"
   ]
  },
  {
   "cell_type": "code",
   "execution_count": 12,
   "metadata": {
    "collapsed": false
   },
   "outputs": [
    {
     "data": {
      "text/plain": [
       "2012-06-01 09:30:00       0.0\n",
       "2012-06-01 09:31:00       1.0\n",
       "2012-06-01 09:32:00       2.0\n",
       "2012-06-01 09:33:00       3.0\n",
       "2012-06-01 09:34:00       4.0\n",
       "2012-06-01 09:35:00       5.0\n",
       "2012-06-01 09:36:00       6.0\n",
       "2012-06-01 09:37:00       7.0\n",
       "2012-06-01 09:38:00       8.0\n",
       "2012-06-01 09:39:00       9.0\n",
       "2012-06-01 09:40:00      10.0\n",
       "2012-06-01 09:41:00      11.0\n",
       "2012-06-01 09:42:00      12.0\n",
       "2012-06-01 09:43:00      13.0\n",
       "2012-06-01 09:44:00      14.0\n",
       "2012-06-01 09:45:00      15.0\n",
       "2012-06-01 09:46:00      16.0\n",
       "2012-06-01 09:47:00      17.0\n",
       "2012-06-01 09:48:00      18.0\n",
       "2012-06-01 09:49:00      19.0\n",
       "2012-06-01 09:50:00      20.0\n",
       "2012-06-01 09:51:00      21.0\n",
       "2012-06-01 09:52:00      22.0\n",
       "2012-06-01 09:53:00      23.0\n",
       "2012-06-01 09:54:00      24.0\n",
       "2012-06-01 09:55:00      25.0\n",
       "2012-06-01 09:56:00      26.0\n",
       "2012-06-01 09:57:00      27.0\n",
       "2012-06-01 09:58:00      28.0\n",
       "2012-06-01 09:59:00      29.0\n",
       "                        ...  \n",
       "2012-06-06 15:30:00    1530.0\n",
       "2012-06-06 15:31:00    1531.0\n",
       "2012-06-06 15:32:00    1532.0\n",
       "2012-06-06 15:33:00    1533.0\n",
       "2012-06-06 15:34:00    1534.0\n",
       "2012-06-06 15:35:00    1535.0\n",
       "2012-06-06 15:36:00    1536.0\n",
       "2012-06-06 15:37:00    1537.0\n",
       "2012-06-06 15:38:00    1538.0\n",
       "2012-06-06 15:39:00    1539.0\n",
       "2012-06-06 15:40:00    1540.0\n",
       "2012-06-06 15:41:00    1541.0\n",
       "2012-06-06 15:42:00    1542.0\n",
       "2012-06-06 15:43:00    1543.0\n",
       "2012-06-06 15:44:00    1544.0\n",
       "2012-06-06 15:45:00    1545.0\n",
       "2012-06-06 15:46:00    1546.0\n",
       "2012-06-06 15:47:00    1547.0\n",
       "2012-06-06 15:48:00    1548.0\n",
       "2012-06-06 15:49:00    1549.0\n",
       "2012-06-06 15:50:00    1550.0\n",
       "2012-06-06 15:51:00    1551.0\n",
       "2012-06-06 15:52:00    1552.0\n",
       "2012-06-06 15:53:00    1553.0\n",
       "2012-06-06 15:54:00    1554.0\n",
       "2012-06-06 15:55:00    1555.0\n",
       "2012-06-06 15:56:00    1556.0\n",
       "2012-06-06 15:57:00    1557.0\n",
       "2012-06-06 15:58:00    1558.0\n",
       "2012-06-06 15:59:00    1559.0\n",
       "Length: 1560, dtype: float64"
      ]
     },
     "execution_count": 12,
     "metadata": {},
     "output_type": "execute_result"
    }
   ],
   "source": [
    "ts = Series(np.arange(len(rng), dtype=float), index=rng)\n",
    "ts"
   ]
  },
  {
   "cell_type": "code",
   "execution_count": 13,
   "metadata": {
    "collapsed": false
   },
   "outputs": [
    {
     "data": {
      "text/plain": [
       "2012-06-01 10:00:00      30.0\n",
       "2012-06-04 10:00:00     420.0\n",
       "2012-06-05 10:00:00     810.0\n",
       "2012-06-06 10:00:00    1200.0\n",
       "dtype: float64"
      ]
     },
     "execution_count": 13,
     "metadata": {},
     "output_type": "execute_result"
    }
   ],
   "source": [
    "ts[time(10,0)]"
   ]
  },
  {
   "cell_type": "code",
   "execution_count": 14,
   "metadata": {
    "collapsed": false
   },
   "outputs": [
    {
     "data": {
      "text/plain": [
       "2012-06-01 10:00:00      30.0\n",
       "2012-06-01 10:01:00      31.0\n",
       "2012-06-04 10:00:00     420.0\n",
       "2012-06-04 10:01:00     421.0\n",
       "2012-06-05 10:00:00     810.0\n",
       "2012-06-05 10:01:00     811.0\n",
       "2012-06-06 10:00:00    1200.0\n",
       "2012-06-06 10:01:00    1201.0\n",
       "dtype: float64"
      ]
     },
     "execution_count": 14,
     "metadata": {},
     "output_type": "execute_result"
    }
   ],
   "source": [
    "ts.between_time(time(10,0), time(10,1))"
   ]
  },
  {
   "cell_type": "code",
   "execution_count": 15,
   "metadata": {
    "collapsed": true
   },
   "outputs": [],
   "source": [
    "indexer = np.sort(np.random.permutation(len(ts))[700:])\n",
    "irr_ts = ts.copy()\n",
    "irr_ts[indexer] = np.nan"
   ]
  },
  {
   "cell_type": "code",
   "execution_count": 16,
   "metadata": {
    "collapsed": false
   },
   "outputs": [
    {
     "data": {
      "text/plain": [
       "2012-06-01 09:50:00    20.0\n",
       "2012-06-01 09:51:00     NaN\n",
       "2012-06-01 09:52:00     NaN\n",
       "2012-06-01 09:53:00     NaN\n",
       "2012-06-01 09:54:00    24.0\n",
       "2012-06-01 09:55:00    25.0\n",
       "2012-06-01 09:56:00     NaN\n",
       "2012-06-01 09:57:00    27.0\n",
       "2012-06-01 09:58:00    28.0\n",
       "2012-06-01 09:59:00    29.0\n",
       "2012-06-01 10:00:00     NaN\n",
       "dtype: float64"
      ]
     },
     "execution_count": 16,
     "metadata": {},
     "output_type": "execute_result"
    }
   ],
   "source": [
    "irr_ts['2012-6-1 9:50':'2012-6-1 10:00']"
   ]
  },
  {
   "cell_type": "code",
   "execution_count": 17,
   "metadata": {
    "collapsed": false
   },
   "outputs": [
    {
     "data": {
      "text/plain": [
       "2012-06-01 10:00:00      29.0\n",
       "2012-06-04 10:00:00     420.0\n",
       "2012-06-05 10:00:00     801.0\n",
       "2012-06-06 10:00:00    1199.0\n",
       "Freq: B, dtype: float64"
      ]
     },
     "execution_count": 17,
     "metadata": {},
     "output_type": "execute_result"
    }
   ],
   "source": [
    "selection = pd.date_range('2012-6-1 10:00', periods=4, freq='B')\n",
    "irr_ts.asof(selection)"
   ]
  },
  {
   "cell_type": "code",
   "execution_count": 18,
   "metadata": {
    "collapsed": false
   },
   "outputs": [
    {
     "data": {
      "text/html": [
       "<div>\n",
       "<style>\n",
       "    .dataframe thead tr:only-child th {\n",
       "        text-align: right;\n",
       "    }\n",
       "\n",
       "    .dataframe thead th {\n",
       "        text-align: left;\n",
       "    }\n",
       "\n",
       "    .dataframe tbody tr th {\n",
       "        vertical-align: top;\n",
       "    }\n",
       "</style>\n",
       "<table border=\"1\" class=\"dataframe\">\n",
       "  <thead>\n",
       "    <tr style=\"text-align: right;\">\n",
       "      <th></th>\n",
       "      <th>a</th>\n",
       "      <th>b</th>\n",
       "      <th>c</th>\n",
       "    </tr>\n",
       "  </thead>\n",
       "  <tbody>\n",
       "    <tr>\n",
       "      <th>2012-06-12</th>\n",
       "      <td>1.0</td>\n",
       "      <td>1.0</td>\n",
       "      <td>1.0</td>\n",
       "    </tr>\n",
       "    <tr>\n",
       "      <th>2012-06-13</th>\n",
       "      <td>1.0</td>\n",
       "      <td>1.0</td>\n",
       "      <td>1.0</td>\n",
       "    </tr>\n",
       "    <tr>\n",
       "      <th>2012-06-14</th>\n",
       "      <td>1.0</td>\n",
       "      <td>1.0</td>\n",
       "      <td>1.0</td>\n",
       "    </tr>\n",
       "    <tr>\n",
       "      <th>2012-06-15</th>\n",
       "      <td>1.0</td>\n",
       "      <td>1.0</td>\n",
       "      <td>1.0</td>\n",
       "    </tr>\n",
       "    <tr>\n",
       "      <th>2012-06-16</th>\n",
       "      <td>1.0</td>\n",
       "      <td>1.0</td>\n",
       "      <td>1.0</td>\n",
       "    </tr>\n",
       "    <tr>\n",
       "      <th>2012-06-17</th>\n",
       "      <td>1.0</td>\n",
       "      <td>1.0</td>\n",
       "      <td>1.0</td>\n",
       "    </tr>\n",
       "  </tbody>\n",
       "</table>\n",
       "</div>"
      ],
      "text/plain": [
       "              a    b    c\n",
       "2012-06-12  1.0  1.0  1.0\n",
       "2012-06-13  1.0  1.0  1.0\n",
       "2012-06-14  1.0  1.0  1.0\n",
       "2012-06-15  1.0  1.0  1.0\n",
       "2012-06-16  1.0  1.0  1.0\n",
       "2012-06-17  1.0  1.0  1.0"
      ]
     },
     "execution_count": 18,
     "metadata": {},
     "output_type": "execute_result"
    }
   ],
   "source": [
    "data1 = DataFrame(np.ones((6, 3), dtype=float),\n",
    "                  columns=['a', 'b', 'c'],\n",
    "                  index=pd.date_range('2012-6-12', periods=6))\n",
    "data1"
   ]
  },
  {
   "cell_type": "code",
   "execution_count": 19,
   "metadata": {
    "collapsed": false
   },
   "outputs": [
    {
     "data": {
      "text/html": [
       "<div>\n",
       "<style>\n",
       "    .dataframe thead tr:only-child th {\n",
       "        text-align: right;\n",
       "    }\n",
       "\n",
       "    .dataframe thead th {\n",
       "        text-align: left;\n",
       "    }\n",
       "\n",
       "    .dataframe tbody tr th {\n",
       "        vertical-align: top;\n",
       "    }\n",
       "</style>\n",
       "<table border=\"1\" class=\"dataframe\">\n",
       "  <thead>\n",
       "    <tr style=\"text-align: right;\">\n",
       "      <th></th>\n",
       "      <th>a</th>\n",
       "      <th>b</th>\n",
       "      <th>c</th>\n",
       "    </tr>\n",
       "  </thead>\n",
       "  <tbody>\n",
       "    <tr>\n",
       "      <th>2012-06-13</th>\n",
       "      <td>2.0</td>\n",
       "      <td>2.0</td>\n",
       "      <td>2.0</td>\n",
       "    </tr>\n",
       "    <tr>\n",
       "      <th>2012-06-14</th>\n",
       "      <td>2.0</td>\n",
       "      <td>2.0</td>\n",
       "      <td>2.0</td>\n",
       "    </tr>\n",
       "    <tr>\n",
       "      <th>2012-06-15</th>\n",
       "      <td>2.0</td>\n",
       "      <td>2.0</td>\n",
       "      <td>2.0</td>\n",
       "    </tr>\n",
       "    <tr>\n",
       "      <th>2012-06-16</th>\n",
       "      <td>2.0</td>\n",
       "      <td>2.0</td>\n",
       "      <td>2.0</td>\n",
       "    </tr>\n",
       "    <tr>\n",
       "      <th>2012-06-17</th>\n",
       "      <td>2.0</td>\n",
       "      <td>2.0</td>\n",
       "      <td>2.0</td>\n",
       "    </tr>\n",
       "    <tr>\n",
       "      <th>2012-06-18</th>\n",
       "      <td>2.0</td>\n",
       "      <td>2.0</td>\n",
       "      <td>2.0</td>\n",
       "    </tr>\n",
       "  </tbody>\n",
       "</table>\n",
       "</div>"
      ],
      "text/plain": [
       "              a    b    c\n",
       "2012-06-13  2.0  2.0  2.0\n",
       "2012-06-14  2.0  2.0  2.0\n",
       "2012-06-15  2.0  2.0  2.0\n",
       "2012-06-16  2.0  2.0  2.0\n",
       "2012-06-17  2.0  2.0  2.0\n",
       "2012-06-18  2.0  2.0  2.0"
      ]
     },
     "execution_count": 19,
     "metadata": {},
     "output_type": "execute_result"
    }
   ],
   "source": [
    "data2 = DataFrame(np.ones((6, 3), dtype=float) * 2,\n",
    "                  columns=['a', 'b', 'c'],\n",
    "                  index=pd.date_range('2012-6-13', periods=6))\n",
    "data2"
   ]
  },
  {
   "cell_type": "code",
   "execution_count": 20,
   "metadata": {
    "collapsed": false
   },
   "outputs": [
    {
     "data": {
      "text/html": [
       "<div>\n",
       "<style>\n",
       "    .dataframe thead tr:only-child th {\n",
       "        text-align: right;\n",
       "    }\n",
       "\n",
       "    .dataframe thead th {\n",
       "        text-align: left;\n",
       "    }\n",
       "\n",
       "    .dataframe tbody tr th {\n",
       "        vertical-align: top;\n",
       "    }\n",
       "</style>\n",
       "<table border=\"1\" class=\"dataframe\">\n",
       "  <thead>\n",
       "    <tr style=\"text-align: right;\">\n",
       "      <th></th>\n",
       "      <th>a</th>\n",
       "      <th>b</th>\n",
       "      <th>c</th>\n",
       "    </tr>\n",
       "  </thead>\n",
       "  <tbody>\n",
       "    <tr>\n",
       "      <th>2012-06-12</th>\n",
       "      <td>1.0</td>\n",
       "      <td>1.0</td>\n",
       "      <td>1.0</td>\n",
       "    </tr>\n",
       "    <tr>\n",
       "      <th>2012-06-13</th>\n",
       "      <td>1.0</td>\n",
       "      <td>1.0</td>\n",
       "      <td>1.0</td>\n",
       "    </tr>\n",
       "    <tr>\n",
       "      <th>2012-06-14</th>\n",
       "      <td>1.0</td>\n",
       "      <td>1.0</td>\n",
       "      <td>1.0</td>\n",
       "    </tr>\n",
       "    <tr>\n",
       "      <th>2012-06-15</th>\n",
       "      <td>2.0</td>\n",
       "      <td>2.0</td>\n",
       "      <td>2.0</td>\n",
       "    </tr>\n",
       "    <tr>\n",
       "      <th>2012-06-16</th>\n",
       "      <td>2.0</td>\n",
       "      <td>2.0</td>\n",
       "      <td>2.0</td>\n",
       "    </tr>\n",
       "    <tr>\n",
       "      <th>2012-06-17</th>\n",
       "      <td>2.0</td>\n",
       "      <td>2.0</td>\n",
       "      <td>2.0</td>\n",
       "    </tr>\n",
       "    <tr>\n",
       "      <th>2012-06-18</th>\n",
       "      <td>2.0</td>\n",
       "      <td>2.0</td>\n",
       "      <td>2.0</td>\n",
       "    </tr>\n",
       "  </tbody>\n",
       "</table>\n",
       "</div>"
      ],
      "text/plain": [
       "              a    b    c\n",
       "2012-06-12  1.0  1.0  1.0\n",
       "2012-06-13  1.0  1.0  1.0\n",
       "2012-06-14  1.0  1.0  1.0\n",
       "2012-06-15  2.0  2.0  2.0\n",
       "2012-06-16  2.0  2.0  2.0\n",
       "2012-06-17  2.0  2.0  2.0\n",
       "2012-06-18  2.0  2.0  2.0"
      ]
     },
     "execution_count": 20,
     "metadata": {},
     "output_type": "execute_result"
    }
   ],
   "source": [
    "spliced = pd.concat([data1.loc[:'2012-6-14'], data2.loc['2012-6-15':]])\n",
    "spliced"
   ]
  },
  {
   "cell_type": "code",
   "execution_count": 21,
   "metadata": {
    "collapsed": false
   },
   "outputs": [
    {
     "data": {
      "text/html": [
       "<div>\n",
       "<style>\n",
       "    .dataframe thead tr:only-child th {\n",
       "        text-align: right;\n",
       "    }\n",
       "\n",
       "    .dataframe thead th {\n",
       "        text-align: left;\n",
       "    }\n",
       "\n",
       "    .dataframe tbody tr th {\n",
       "        vertical-align: top;\n",
       "    }\n",
       "</style>\n",
       "<table border=\"1\" class=\"dataframe\">\n",
       "  <thead>\n",
       "    <tr style=\"text-align: right;\">\n",
       "      <th></th>\n",
       "      <th>a</th>\n",
       "      <th>b</th>\n",
       "      <th>c</th>\n",
       "      <th>d</th>\n",
       "    </tr>\n",
       "  </thead>\n",
       "  <tbody>\n",
       "    <tr>\n",
       "      <th>2012-06-12</th>\n",
       "      <td>1.0</td>\n",
       "      <td>1.0</td>\n",
       "      <td>1.0</td>\n",
       "      <td>NaN</td>\n",
       "    </tr>\n",
       "    <tr>\n",
       "      <th>2012-06-13</th>\n",
       "      <td>1.0</td>\n",
       "      <td>1.0</td>\n",
       "      <td>1.0</td>\n",
       "      <td>NaN</td>\n",
       "    </tr>\n",
       "    <tr>\n",
       "      <th>2012-06-14</th>\n",
       "      <td>1.0</td>\n",
       "      <td>1.0</td>\n",
       "      <td>1.0</td>\n",
       "      <td>NaN</td>\n",
       "    </tr>\n",
       "    <tr>\n",
       "      <th>2012-06-15</th>\n",
       "      <td>2.0</td>\n",
       "      <td>2.0</td>\n",
       "      <td>2.0</td>\n",
       "      <td>2.0</td>\n",
       "    </tr>\n",
       "    <tr>\n",
       "      <th>2012-06-16</th>\n",
       "      <td>2.0</td>\n",
       "      <td>2.0</td>\n",
       "      <td>2.0</td>\n",
       "      <td>2.0</td>\n",
       "    </tr>\n",
       "    <tr>\n",
       "      <th>2012-06-17</th>\n",
       "      <td>2.0</td>\n",
       "      <td>2.0</td>\n",
       "      <td>2.0</td>\n",
       "      <td>2.0</td>\n",
       "    </tr>\n",
       "    <tr>\n",
       "      <th>2012-06-18</th>\n",
       "      <td>2.0</td>\n",
       "      <td>2.0</td>\n",
       "      <td>2.0</td>\n",
       "      <td>2.0</td>\n",
       "    </tr>\n",
       "  </tbody>\n",
       "</table>\n",
       "</div>"
      ],
      "text/plain": [
       "              a    b    c    d\n",
       "2012-06-12  1.0  1.0  1.0  NaN\n",
       "2012-06-13  1.0  1.0  1.0  NaN\n",
       "2012-06-14  1.0  1.0  1.0  NaN\n",
       "2012-06-15  2.0  2.0  2.0  2.0\n",
       "2012-06-16  2.0  2.0  2.0  2.0\n",
       "2012-06-17  2.0  2.0  2.0  2.0\n",
       "2012-06-18  2.0  2.0  2.0  2.0"
      ]
     },
     "execution_count": 21,
     "metadata": {},
     "output_type": "execute_result"
    }
   ],
   "source": [
    "data2 = DataFrame(np.ones((6, 4), dtype=float) * 2,\n",
    "                  columns=['a', 'b', 'c', 'd'],\n",
    "                  index=pd.date_range('2012-6-13', periods=6))\n",
    "spliced = pd.concat([data1.loc[:'2012-6-14'], data2.loc['2012-6-15':]])\n",
    "spliced"
   ]
  },
  {
   "cell_type": "code",
   "execution_count": 22,
   "metadata": {
    "collapsed": false
   },
   "outputs": [
    {
     "data": {
      "text/html": [
       "<div>\n",
       "<style>\n",
       "    .dataframe thead tr:only-child th {\n",
       "        text-align: right;\n",
       "    }\n",
       "\n",
       "    .dataframe thead th {\n",
       "        text-align: left;\n",
       "    }\n",
       "\n",
       "    .dataframe tbody tr th {\n",
       "        vertical-align: top;\n",
       "    }\n",
       "</style>\n",
       "<table border=\"1\" class=\"dataframe\">\n",
       "  <thead>\n",
       "    <tr style=\"text-align: right;\">\n",
       "      <th></th>\n",
       "      <th>a</th>\n",
       "      <th>b</th>\n",
       "      <th>c</th>\n",
       "      <th>d</th>\n",
       "    </tr>\n",
       "  </thead>\n",
       "  <tbody>\n",
       "    <tr>\n",
       "      <th>2012-06-12</th>\n",
       "      <td>1.0</td>\n",
       "      <td>1.0</td>\n",
       "      <td>1.0</td>\n",
       "      <td>NaN</td>\n",
       "    </tr>\n",
       "    <tr>\n",
       "      <th>2012-06-13</th>\n",
       "      <td>1.0</td>\n",
       "      <td>1.0</td>\n",
       "      <td>1.0</td>\n",
       "      <td>2.0</td>\n",
       "    </tr>\n",
       "    <tr>\n",
       "      <th>2012-06-14</th>\n",
       "      <td>1.0</td>\n",
       "      <td>1.0</td>\n",
       "      <td>1.0</td>\n",
       "      <td>2.0</td>\n",
       "    </tr>\n",
       "    <tr>\n",
       "      <th>2012-06-15</th>\n",
       "      <td>2.0</td>\n",
       "      <td>2.0</td>\n",
       "      <td>2.0</td>\n",
       "      <td>2.0</td>\n",
       "    </tr>\n",
       "    <tr>\n",
       "      <th>2012-06-16</th>\n",
       "      <td>2.0</td>\n",
       "      <td>2.0</td>\n",
       "      <td>2.0</td>\n",
       "      <td>2.0</td>\n",
       "    </tr>\n",
       "    <tr>\n",
       "      <th>2012-06-17</th>\n",
       "      <td>2.0</td>\n",
       "      <td>2.0</td>\n",
       "      <td>2.0</td>\n",
       "      <td>2.0</td>\n",
       "    </tr>\n",
       "    <tr>\n",
       "      <th>2012-06-18</th>\n",
       "      <td>2.0</td>\n",
       "      <td>2.0</td>\n",
       "      <td>2.0</td>\n",
       "      <td>2.0</td>\n",
       "    </tr>\n",
       "  </tbody>\n",
       "</table>\n",
       "</div>"
      ],
      "text/plain": [
       "              a    b    c    d\n",
       "2012-06-12  1.0  1.0  1.0  NaN\n",
       "2012-06-13  1.0  1.0  1.0  2.0\n",
       "2012-06-14  1.0  1.0  1.0  2.0\n",
       "2012-06-15  2.0  2.0  2.0  2.0\n",
       "2012-06-16  2.0  2.0  2.0  2.0\n",
       "2012-06-17  2.0  2.0  2.0  2.0\n",
       "2012-06-18  2.0  2.0  2.0  2.0"
      ]
     },
     "execution_count": 22,
     "metadata": {},
     "output_type": "execute_result"
    }
   ],
   "source": [
    "spliced_filled = spliced.combine_first(data2)\n",
    "spliced_filled"
   ]
  },
  {
   "cell_type": "code",
   "execution_count": 23,
   "metadata": {
    "collapsed": false
   },
   "outputs": [
    {
     "data": {
      "text/html": [
       "<div>\n",
       "<style>\n",
       "    .dataframe thead tr:only-child th {\n",
       "        text-align: right;\n",
       "    }\n",
       "\n",
       "    .dataframe thead th {\n",
       "        text-align: left;\n",
       "    }\n",
       "\n",
       "    .dataframe tbody tr th {\n",
       "        vertical-align: top;\n",
       "    }\n",
       "</style>\n",
       "<table border=\"1\" class=\"dataframe\">\n",
       "  <thead>\n",
       "    <tr style=\"text-align: right;\">\n",
       "      <th></th>\n",
       "      <th>a</th>\n",
       "      <th>b</th>\n",
       "      <th>c</th>\n",
       "      <th>d</th>\n",
       "    </tr>\n",
       "  </thead>\n",
       "  <tbody>\n",
       "    <tr>\n",
       "      <th>2012-06-12</th>\n",
       "      <td>1.0</td>\n",
       "      <td>1.0</td>\n",
       "      <td>1.0</td>\n",
       "      <td>NaN</td>\n",
       "    </tr>\n",
       "    <tr>\n",
       "      <th>2012-06-13</th>\n",
       "      <td>1.0</td>\n",
       "      <td>1.0</td>\n",
       "      <td>1.0</td>\n",
       "      <td>2.0</td>\n",
       "    </tr>\n",
       "    <tr>\n",
       "      <th>2012-06-14</th>\n",
       "      <td>1.0</td>\n",
       "      <td>1.0</td>\n",
       "      <td>1.0</td>\n",
       "      <td>2.0</td>\n",
       "    </tr>\n",
       "    <tr>\n",
       "      <th>2012-06-15</th>\n",
       "      <td>2.0</td>\n",
       "      <td>2.0</td>\n",
       "      <td>2.0</td>\n",
       "      <td>2.0</td>\n",
       "    </tr>\n",
       "    <tr>\n",
       "      <th>2012-06-16</th>\n",
       "      <td>2.0</td>\n",
       "      <td>2.0</td>\n",
       "      <td>2.0</td>\n",
       "      <td>2.0</td>\n",
       "    </tr>\n",
       "    <tr>\n",
       "      <th>2012-06-17</th>\n",
       "      <td>2.0</td>\n",
       "      <td>2.0</td>\n",
       "      <td>2.0</td>\n",
       "      <td>2.0</td>\n",
       "    </tr>\n",
       "    <tr>\n",
       "      <th>2012-06-18</th>\n",
       "      <td>2.0</td>\n",
       "      <td>2.0</td>\n",
       "      <td>2.0</td>\n",
       "      <td>2.0</td>\n",
       "    </tr>\n",
       "  </tbody>\n",
       "</table>\n",
       "</div>"
      ],
      "text/plain": [
       "              a    b    c    d\n",
       "2012-06-12  1.0  1.0  1.0  NaN\n",
       "2012-06-13  1.0  1.0  1.0  2.0\n",
       "2012-06-14  1.0  1.0  1.0  2.0\n",
       "2012-06-15  2.0  2.0  2.0  2.0\n",
       "2012-06-16  2.0  2.0  2.0  2.0\n",
       "2012-06-17  2.0  2.0  2.0  2.0\n",
       "2012-06-18  2.0  2.0  2.0  2.0"
      ]
     },
     "execution_count": 23,
     "metadata": {},
     "output_type": "execute_result"
    }
   ],
   "source": [
    "spliced.update(data2, overwrite=False)\n",
    "spliced"
   ]
  },
  {
   "cell_type": "code",
   "execution_count": 24,
   "metadata": {
    "collapsed": false
   },
   "outputs": [
    {
     "data": {
      "text/html": [
       "<div>\n",
       "<style>\n",
       "    .dataframe thead tr:only-child th {\n",
       "        text-align: right;\n",
       "    }\n",
       "\n",
       "    .dataframe thead th {\n",
       "        text-align: left;\n",
       "    }\n",
       "\n",
       "    .dataframe tbody tr th {\n",
       "        vertical-align: top;\n",
       "    }\n",
       "</style>\n",
       "<table border=\"1\" class=\"dataframe\">\n",
       "  <thead>\n",
       "    <tr style=\"text-align: right;\">\n",
       "      <th></th>\n",
       "      <th>AAPL</th>\n",
       "      <th>JNJ</th>\n",
       "      <th>SPX</th>\n",
       "      <th>XOM</th>\n",
       "    </tr>\n",
       "  </thead>\n",
       "  <tbody>\n",
       "    <tr>\n",
       "      <th>2011-09-06</th>\n",
       "      <td>379.74</td>\n",
       "      <td>64.64</td>\n",
       "      <td>1165.24</td>\n",
       "      <td>71.15</td>\n",
       "    </tr>\n",
       "    <tr>\n",
       "      <th>2011-09-07</th>\n",
       "      <td>383.93</td>\n",
       "      <td>65.43</td>\n",
       "      <td>1198.62</td>\n",
       "      <td>73.65</td>\n",
       "    </tr>\n",
       "    <tr>\n",
       "      <th>2011-09-08</th>\n",
       "      <td>384.14</td>\n",
       "      <td>64.95</td>\n",
       "      <td>1185.90</td>\n",
       "      <td>72.82</td>\n",
       "    </tr>\n",
       "    <tr>\n",
       "      <th>2011-09-09</th>\n",
       "      <td>377.48</td>\n",
       "      <td>63.64</td>\n",
       "      <td>1154.23</td>\n",
       "      <td>71.01</td>\n",
       "    </tr>\n",
       "    <tr>\n",
       "      <th>2011-09-12</th>\n",
       "      <td>379.94</td>\n",
       "      <td>63.59</td>\n",
       "      <td>1162.27</td>\n",
       "      <td>71.84</td>\n",
       "    </tr>\n",
       "    <tr>\n",
       "      <th>2011-09-13</th>\n",
       "      <td>384.62</td>\n",
       "      <td>63.61</td>\n",
       "      <td>1172.87</td>\n",
       "      <td>71.65</td>\n",
       "    </tr>\n",
       "    <tr>\n",
       "      <th>2011-09-14</th>\n",
       "      <td>389.30</td>\n",
       "      <td>63.73</td>\n",
       "      <td>1188.68</td>\n",
       "      <td>72.64</td>\n",
       "    </tr>\n",
       "  </tbody>\n",
       "</table>\n",
       "</div>"
      ],
      "text/plain": [
       "              AAPL    JNJ      SPX    XOM\n",
       "2011-09-06  379.74  64.64  1165.24  71.15\n",
       "2011-09-07  383.93  65.43  1198.62  73.65\n",
       "2011-09-08  384.14  64.95  1185.90  72.82\n",
       "2011-09-09  377.48  63.64  1154.23  71.01\n",
       "2011-09-12  379.94  63.59  1162.27  71.84\n",
       "2011-09-13  384.62  63.61  1172.87  71.65\n",
       "2011-09-14  389.30  63.73  1188.68  72.64"
      ]
     },
     "execution_count": 24,
     "metadata": {},
     "output_type": "execute_result"
    }
   ],
   "source": [
    "close_px = pd.read_csv('stock_px.csv', parse_dates=True, index_col=0)\n",
    "volume = pd.read_csv('volume.csv', parse_dates=True, index_col=0)\n",
    "prices = close_px.loc['2011-09-05':'2011-09-14', ['AAPL', 'JNJ', 'SPX', 'XOM']]\n",
    "volume = volume.loc['2011-09-05':'2011-09-12', ['AAPL', 'JNJ', 'XOM']]\n",
    "prices"
   ]
  },
  {
   "cell_type": "code",
   "execution_count": 25,
   "metadata": {
    "collapsed": false
   },
   "outputs": [
    {
     "data": {
      "text/html": [
       "<div>\n",
       "<style>\n",
       "    .dataframe thead tr:only-child th {\n",
       "        text-align: right;\n",
       "    }\n",
       "\n",
       "    .dataframe thead th {\n",
       "        text-align: left;\n",
       "    }\n",
       "\n",
       "    .dataframe tbody tr th {\n",
       "        vertical-align: top;\n",
       "    }\n",
       "</style>\n",
       "<table border=\"1\" class=\"dataframe\">\n",
       "  <thead>\n",
       "    <tr style=\"text-align: right;\">\n",
       "      <th></th>\n",
       "      <th>AAPL</th>\n",
       "      <th>JNJ</th>\n",
       "      <th>XOM</th>\n",
       "    </tr>\n",
       "  </thead>\n",
       "  <tbody>\n",
       "    <tr>\n",
       "      <th>2011-09-06</th>\n",
       "      <td>18173500.0</td>\n",
       "      <td>15848300.0</td>\n",
       "      <td>25416300.0</td>\n",
       "    </tr>\n",
       "    <tr>\n",
       "      <th>2011-09-07</th>\n",
       "      <td>12492000.0</td>\n",
       "      <td>10759700.0</td>\n",
       "      <td>23108400.0</td>\n",
       "    </tr>\n",
       "    <tr>\n",
       "      <th>2011-09-08</th>\n",
       "      <td>14839800.0</td>\n",
       "      <td>15551500.0</td>\n",
       "      <td>22434800.0</td>\n",
       "    </tr>\n",
       "    <tr>\n",
       "      <th>2011-09-09</th>\n",
       "      <td>20171900.0</td>\n",
       "      <td>17008200.0</td>\n",
       "      <td>27969100.0</td>\n",
       "    </tr>\n",
       "    <tr>\n",
       "      <th>2011-09-12</th>\n",
       "      <td>16697300.0</td>\n",
       "      <td>13448200.0</td>\n",
       "      <td>26205800.0</td>\n",
       "    </tr>\n",
       "  </tbody>\n",
       "</table>\n",
       "</div>"
      ],
      "text/plain": [
       "                  AAPL         JNJ         XOM\n",
       "2011-09-06  18173500.0  15848300.0  25416300.0\n",
       "2011-09-07  12492000.0  10759700.0  23108400.0\n",
       "2011-09-08  14839800.0  15551500.0  22434800.0\n",
       "2011-09-09  20171900.0  17008200.0  27969100.0\n",
       "2011-09-12  16697300.0  13448200.0  26205800.0"
      ]
     },
     "execution_count": 25,
     "metadata": {},
     "output_type": "execute_result"
    }
   ],
   "source": [
    "volume"
   ]
  },
  {
   "cell_type": "code",
   "execution_count": 26,
   "metadata": {
    "collapsed": false
   },
   "outputs": [
    {
     "data": {
      "text/html": [
       "<div>\n",
       "<style>\n",
       "    .dataframe thead tr:only-child th {\n",
       "        text-align: right;\n",
       "    }\n",
       "\n",
       "    .dataframe thead th {\n",
       "        text-align: left;\n",
       "    }\n",
       "\n",
       "    .dataframe tbody tr th {\n",
       "        vertical-align: top;\n",
       "    }\n",
       "</style>\n",
       "<table border=\"1\" class=\"dataframe\">\n",
       "  <thead>\n",
       "    <tr style=\"text-align: right;\">\n",
       "      <th></th>\n",
       "      <th>AAPL</th>\n",
       "      <th>JNJ</th>\n",
       "      <th>SPX</th>\n",
       "      <th>XOM</th>\n",
       "    </tr>\n",
       "  </thead>\n",
       "  <tbody>\n",
       "    <tr>\n",
       "      <th>2011-09-06</th>\n",
       "      <td>6.901205e+09</td>\n",
       "      <td>1.024434e+09</td>\n",
       "      <td>NaN</td>\n",
       "      <td>1.808370e+09</td>\n",
       "    </tr>\n",
       "    <tr>\n",
       "      <th>2011-09-07</th>\n",
       "      <td>4.796054e+09</td>\n",
       "      <td>7.040072e+08</td>\n",
       "      <td>NaN</td>\n",
       "      <td>1.701934e+09</td>\n",
       "    </tr>\n",
       "    <tr>\n",
       "      <th>2011-09-08</th>\n",
       "      <td>5.700561e+09</td>\n",
       "      <td>1.010070e+09</td>\n",
       "      <td>NaN</td>\n",
       "      <td>1.633702e+09</td>\n",
       "    </tr>\n",
       "    <tr>\n",
       "      <th>2011-09-09</th>\n",
       "      <td>7.614489e+09</td>\n",
       "      <td>1.082402e+09</td>\n",
       "      <td>NaN</td>\n",
       "      <td>1.986086e+09</td>\n",
       "    </tr>\n",
       "    <tr>\n",
       "      <th>2011-09-12</th>\n",
       "      <td>6.343972e+09</td>\n",
       "      <td>8.551710e+08</td>\n",
       "      <td>NaN</td>\n",
       "      <td>1.882625e+09</td>\n",
       "    </tr>\n",
       "    <tr>\n",
       "      <th>2011-09-13</th>\n",
       "      <td>NaN</td>\n",
       "      <td>NaN</td>\n",
       "      <td>NaN</td>\n",
       "      <td>NaN</td>\n",
       "    </tr>\n",
       "    <tr>\n",
       "      <th>2011-09-14</th>\n",
       "      <td>NaN</td>\n",
       "      <td>NaN</td>\n",
       "      <td>NaN</td>\n",
       "      <td>NaN</td>\n",
       "    </tr>\n",
       "  </tbody>\n",
       "</table>\n",
       "</div>"
      ],
      "text/plain": [
       "                    AAPL           JNJ  SPX           XOM\n",
       "2011-09-06  6.901205e+09  1.024434e+09  NaN  1.808370e+09\n",
       "2011-09-07  4.796054e+09  7.040072e+08  NaN  1.701934e+09\n",
       "2011-09-08  5.700561e+09  1.010070e+09  NaN  1.633702e+09\n",
       "2011-09-09  7.614489e+09  1.082402e+09  NaN  1.986086e+09\n",
       "2011-09-12  6.343972e+09  8.551710e+08  NaN  1.882625e+09\n",
       "2011-09-13           NaN           NaN  NaN           NaN\n",
       "2011-09-14           NaN           NaN  NaN           NaN"
      ]
     },
     "execution_count": 26,
     "metadata": {},
     "output_type": "execute_result"
    }
   ],
   "source": [
    "prices*volume"
   ]
  },
  {
   "cell_type": "code",
   "execution_count": 27,
   "metadata": {
    "collapsed": false
   },
   "outputs": [
    {
     "data": {
      "text/plain": [
       "AAPL    380.655181\n",
       "JNJ      64.394769\n",
       "SPX            NaN\n",
       "XOM      72.024288\n",
       "dtype: float64"
      ]
     },
     "execution_count": 27,
     "metadata": {},
     "output_type": "execute_result"
    }
   ],
   "source": [
    "vwap = (prices * volume).sum() / volume.sum()\n",
    "vwap"
   ]
  },
  {
   "cell_type": "code",
   "execution_count": 28,
   "metadata": {
    "collapsed": false
   },
   "outputs": [
    {
     "data": {
      "text/plain": [
       "(              AAPL    JNJ    XOM\n",
       " 2011-09-06  379.74  64.64  71.15\n",
       " 2011-09-07  383.93  65.43  73.65\n",
       " 2011-09-08  384.14  64.95  72.82\n",
       " 2011-09-09  377.48  63.64  71.01\n",
       " 2011-09-12  379.94  63.59  71.84,\n",
       "                   AAPL         JNJ         XOM\n",
       " 2011-09-06  18173500.0  15848300.0  25416300.0\n",
       " 2011-09-07  12492000.0  10759700.0  23108400.0\n",
       " 2011-09-08  14839800.0  15551500.0  22434800.0\n",
       " 2011-09-09  20171900.0  17008200.0  27969100.0\n",
       " 2011-09-12  16697300.0  13448200.0  26205800.0)"
      ]
     },
     "execution_count": 28,
     "metadata": {},
     "output_type": "execute_result"
    }
   ],
   "source": [
    "prices.align(volume,join='inner')"
   ]
  },
  {
   "cell_type": "code",
   "execution_count": 29,
   "metadata": {
    "collapsed": false
   },
   "outputs": [
    {
     "data": {
      "text/html": [
       "<div>\n",
       "<style>\n",
       "    .dataframe thead tr:only-child th {\n",
       "        text-align: right;\n",
       "    }\n",
       "\n",
       "    .dataframe thead th {\n",
       "        text-align: left;\n",
       "    }\n",
       "\n",
       "    .dataframe tbody tr th {\n",
       "        vertical-align: top;\n",
       "    }\n",
       "</style>\n",
       "<table border=\"1\" class=\"dataframe\">\n",
       "  <thead>\n",
       "    <tr style=\"text-align: right;\">\n",
       "      <th></th>\n",
       "      <th>one</th>\n",
       "      <th>three</th>\n",
       "      <th>two</th>\n",
       "    </tr>\n",
       "  </thead>\n",
       "  <tbody>\n",
       "    <tr>\n",
       "      <th>a</th>\n",
       "      <td>0.0</td>\n",
       "      <td>1.0</td>\n",
       "      <td>NaN</td>\n",
       "    </tr>\n",
       "    <tr>\n",
       "      <th>b</th>\n",
       "      <td>1.0</td>\n",
       "      <td>NaN</td>\n",
       "      <td>1.0</td>\n",
       "    </tr>\n",
       "    <tr>\n",
       "      <th>c</th>\n",
       "      <td>2.0</td>\n",
       "      <td>2.0</td>\n",
       "      <td>2.0</td>\n",
       "    </tr>\n",
       "    <tr>\n",
       "      <th>d</th>\n",
       "      <td>NaN</td>\n",
       "      <td>NaN</td>\n",
       "      <td>0.0</td>\n",
       "    </tr>\n",
       "    <tr>\n",
       "      <th>e</th>\n",
       "      <td>NaN</td>\n",
       "      <td>NaN</td>\n",
       "      <td>3.0</td>\n",
       "    </tr>\n",
       "    <tr>\n",
       "      <th>f</th>\n",
       "      <td>NaN</td>\n",
       "      <td>0.0</td>\n",
       "      <td>NaN</td>\n",
       "    </tr>\n",
       "  </tbody>\n",
       "</table>\n",
       "</div>"
      ],
      "text/plain": [
       "   one  three  two\n",
       "a  0.0    1.0  NaN\n",
       "b  1.0    NaN  1.0\n",
       "c  2.0    2.0  2.0\n",
       "d  NaN    NaN  0.0\n",
       "e  NaN    NaN  3.0\n",
       "f  NaN    0.0  NaN"
      ]
     },
     "execution_count": 29,
     "metadata": {},
     "output_type": "execute_result"
    }
   ],
   "source": [
    "s1 = Series(range(3), index=['a', 'b', 'c'])\n",
    "s2 = Series(range(4), index=['d', 'b', 'c', 'e'])\n",
    "s3 = Series(range(3), index=['f', 'a', 'c'])\n",
    "DataFrame({'one': s1, 'two': s2, 'three': s3})"
   ]
  },
  {
   "cell_type": "code",
   "execution_count": 30,
   "metadata": {
    "collapsed": false
   },
   "outputs": [
    {
     "data": {
      "text/html": [
       "<div>\n",
       "<style>\n",
       "    .dataframe thead tr:only-child th {\n",
       "        text-align: right;\n",
       "    }\n",
       "\n",
       "    .dataframe thead th {\n",
       "        text-align: left;\n",
       "    }\n",
       "\n",
       "    .dataframe tbody tr th {\n",
       "        vertical-align: top;\n",
       "    }\n",
       "</style>\n",
       "<table border=\"1\" class=\"dataframe\">\n",
       "  <thead>\n",
       "    <tr style=\"text-align: right;\">\n",
       "      <th></th>\n",
       "      <th>one</th>\n",
       "      <th>three</th>\n",
       "      <th>two</th>\n",
       "    </tr>\n",
       "  </thead>\n",
       "  <tbody>\n",
       "    <tr>\n",
       "      <th>f</th>\n",
       "      <td>NaN</td>\n",
       "      <td>0.0</td>\n",
       "      <td>NaN</td>\n",
       "    </tr>\n",
       "    <tr>\n",
       "      <th>a</th>\n",
       "      <td>0.0</td>\n",
       "      <td>1.0</td>\n",
       "      <td>NaN</td>\n",
       "    </tr>\n",
       "    <tr>\n",
       "      <th>c</th>\n",
       "      <td>2.0</td>\n",
       "      <td>2.0</td>\n",
       "      <td>2.0</td>\n",
       "    </tr>\n",
       "    <tr>\n",
       "      <th>e</th>\n",
       "      <td>NaN</td>\n",
       "      <td>NaN</td>\n",
       "      <td>3.0</td>\n",
       "    </tr>\n",
       "  </tbody>\n",
       "</table>\n",
       "</div>"
      ],
      "text/plain": [
       "   one  three  two\n",
       "f  NaN    0.0  NaN\n",
       "a  0.0    1.0  NaN\n",
       "c  2.0    2.0  2.0\n",
       "e  NaN    NaN  3.0"
      ]
     },
     "execution_count": 30,
     "metadata": {},
     "output_type": "execute_result"
    }
   ],
   "source": [
    "DataFrame({'one': s1, 'two': s2, 'three': s3}, index=list('face'))\n"
   ]
  },
  {
   "cell_type": "code",
   "execution_count": 31,
   "metadata": {
    "collapsed": false
   },
   "outputs": [
    {
     "data": {
      "text/plain": [
       "2012-06-13    0.442455\n",
       "2012-06-20   -0.130642\n",
       "2012-06-27   -1.798367\n",
       "Freq: W-WED, dtype: float64"
      ]
     },
     "execution_count": 31,
     "metadata": {},
     "output_type": "execute_result"
    }
   ],
   "source": [
    "ts1 = Series(np.random.randn(3),\n",
    "             index=pd.date_range('2012-6-13', periods=3, freq='W-WED'))\n",
    "ts1"
   ]
  },
  {
   "cell_type": "code",
   "execution_count": 32,
   "metadata": {
    "collapsed": false
   },
   "outputs": [
    {
     "data": {
      "text/plain": [
       "DatetimeIndexResampler [freq=<BusinessDay>, axis=0, closed=left, label=left, convention=start, base=0]"
      ]
     },
     "execution_count": 32,
     "metadata": {},
     "output_type": "execute_result"
    }
   ],
   "source": [
    "ts1.resample('B')\n"
   ]
  },
  {
   "cell_type": "code",
   "execution_count": 33,
   "metadata": {
    "collapsed": false
   },
   "outputs": [
    {
     "name": "stderr",
     "output_type": "stream",
     "text": [
      "e:\\python34\\lib\\site-packages\\ipykernel\\__main__.py:1: FutureWarning: fill_method is deprecated to .resample()\n",
      "the new syntax is .resample(...).ffill()\n",
      "  if __name__ == '__main__':\n"
     ]
    },
    {
     "data": {
      "text/plain": [
       "2012-06-13    0.442455\n",
       "2012-06-14    0.442455\n",
       "2012-06-15    0.442455\n",
       "2012-06-18    0.442455\n",
       "2012-06-19    0.442455\n",
       "2012-06-20   -0.130642\n",
       "2012-06-21   -0.130642\n",
       "2012-06-22   -0.130642\n",
       "2012-06-25   -0.130642\n",
       "2012-06-26   -0.130642\n",
       "2012-06-27   -1.798367\n",
       "Freq: B, dtype: float64"
      ]
     },
     "execution_count": 33,
     "metadata": {},
     "output_type": "execute_result"
    }
   ],
   "source": [
    "ts1.resample('B', fill_method='ffill')\n"
   ]
  },
  {
   "cell_type": "code",
   "execution_count": 34,
   "metadata": {
    "collapsed": false
   },
   "outputs": [
    {
     "data": {
      "text/plain": [
       "2012-06-12   -1.084856\n",
       "2012-06-17    0.283537\n",
       "2012-06-18    0.592879\n",
       "2012-06-21   -1.095467\n",
       "2012-06-22    1.430467\n",
       "2012-06-29    1.531198\n",
       "dtype: float64"
      ]
     },
     "execution_count": 34,
     "metadata": {},
     "output_type": "execute_result"
    }
   ],
   "source": [
    "dates = pd.DatetimeIndex(['2012-6-12', '2012-6-17', '2012-6-18',\n",
    "                          '2012-6-21', '2012-6-22', '2012-6-29'])\n",
    "ts2 = Series(np.random.randn(6), index=dates)\n",
    "ts2"
   ]
  },
  {
   "cell_type": "code",
   "execution_count": 35,
   "metadata": {
    "collapsed": false
   },
   "outputs": [
    {
     "data": {
      "text/plain": [
       "2012-06-12         NaN\n",
       "2012-06-17    0.442455\n",
       "2012-06-18    0.442455\n",
       "2012-06-21   -0.130642\n",
       "2012-06-22   -0.130642\n",
       "2012-06-29   -1.798367\n",
       "dtype: float64"
      ]
     },
     "execution_count": 35,
     "metadata": {},
     "output_type": "execute_result"
    }
   ],
   "source": [
    "ts1.reindex(ts2.index, method='ffill')"
   ]
  },
  {
   "cell_type": "code",
   "execution_count": 36,
   "metadata": {
    "collapsed": false
   },
   "outputs": [
    {
     "data": {
      "text/plain": [
       "2012-06-12         NaN\n",
       "2012-06-17    0.725992\n",
       "2012-06-18    1.035333\n",
       "2012-06-21   -1.226109\n",
       "2012-06-22    1.299825\n",
       "2012-06-29   -0.267169\n",
       "dtype: float64"
      ]
     },
     "execution_count": 36,
     "metadata": {},
     "output_type": "execute_result"
    }
   ],
   "source": [
    "ts2 + ts1.reindex(ts2.index, method='ffill')"
   ]
  },
  {
   "cell_type": "code",
   "execution_count": 37,
   "metadata": {
    "collapsed": true
   },
   "outputs": [],
   "source": [
    "gdp = Series([1.78, 1.94, 2.08, 2.01, 2.15, 2.31, 2.46],\n",
    "             index=pd.period_range('1984Q2', periods=7, freq='Q-SEP'))\n",
    "infl = Series([0.025, 0.045, 0.037, 0.04],\n",
    "              index=pd.period_range('1982', periods=4, freq='A-DEC'))"
   ]
  },
  {
   "cell_type": "code",
   "execution_count": 38,
   "metadata": {
    "collapsed": false
   },
   "outputs": [
    {
     "data": {
      "text/plain": [
       "1984Q2    1.78\n",
       "1984Q3    1.94\n",
       "1984Q4    2.08\n",
       "1985Q1    2.01\n",
       "1985Q2    2.15\n",
       "1985Q3    2.31\n",
       "1985Q4    2.46\n",
       "Freq: Q-SEP, dtype: float64"
      ]
     },
     "execution_count": 38,
     "metadata": {},
     "output_type": "execute_result"
    }
   ],
   "source": [
    "gdp"
   ]
  },
  {
   "cell_type": "code",
   "execution_count": 39,
   "metadata": {
    "collapsed": false
   },
   "outputs": [
    {
     "data": {
      "text/plain": [
       "1982    0.025\n",
       "1983    0.045\n",
       "1984    0.037\n",
       "1985    0.040\n",
       "Freq: A-DEC, dtype: float64"
      ]
     },
     "execution_count": 39,
     "metadata": {},
     "output_type": "execute_result"
    }
   ],
   "source": [
    "infl"
   ]
  },
  {
   "cell_type": "code",
   "execution_count": 40,
   "metadata": {
    "collapsed": false
   },
   "outputs": [
    {
     "data": {
      "text/plain": [
       "1983Q1    0.025\n",
       "1984Q1    0.045\n",
       "1985Q1    0.037\n",
       "1986Q1    0.040\n",
       "Freq: Q-SEP, dtype: float64"
      ]
     },
     "execution_count": 40,
     "metadata": {},
     "output_type": "execute_result"
    }
   ],
   "source": [
    "infl_q = infl.asfreq('Q-SEP', how='end')\n",
    "infl_q"
   ]
  },
  {
   "cell_type": "code",
   "execution_count": 41,
   "metadata": {
    "collapsed": false
   },
   "outputs": [
    {
     "data": {
      "text/plain": [
       "1984Q2    0.045\n",
       "1984Q3    0.045\n",
       "1984Q4    0.045\n",
       "1985Q1    0.037\n",
       "1985Q2    0.037\n",
       "1985Q3    0.037\n",
       "1985Q4    0.037\n",
       "Freq: Q-SEP, dtype: float64"
      ]
     },
     "execution_count": 41,
     "metadata": {},
     "output_type": "execute_result"
    }
   ],
   "source": [
    "infl_q.reindex(gdp.index, method='ffill')"
   ]
  },
  {
   "cell_type": "code",
   "execution_count": 43,
   "metadata": {
    "collapsed": false
   },
   "outputs": [
    {
     "data": {
      "text/plain": [
       "DatetimeIndex(['2012-06-01 09:30:00', '2012-06-01 09:31:00',\n",
       "               '2012-06-01 09:32:00', '2012-06-01 09:33:00',\n",
       "               '2012-06-01 09:34:00', '2012-06-01 09:35:00',\n",
       "               '2012-06-01 09:36:00', '2012-06-01 09:37:00',\n",
       "               '2012-06-01 09:38:00', '2012-06-01 09:39:00',\n",
       "               ...\n",
       "               '2012-06-01 15:50:00', '2012-06-01 15:51:00',\n",
       "               '2012-06-01 15:52:00', '2012-06-01 15:53:00',\n",
       "               '2012-06-01 15:54:00', '2012-06-01 15:55:00',\n",
       "               '2012-06-01 15:56:00', '2012-06-01 15:57:00',\n",
       "               '2012-06-01 15:58:00', '2012-06-01 15:59:00'],\n",
       "              dtype='datetime64[ns]', length=390, freq='T')"
      ]
     },
     "execution_count": 43,
     "metadata": {},
     "output_type": "execute_result"
    }
   ],
   "source": [
    "rng = pd.date_range('2012-6-1 9:30', '2012-6-1 15:59', freq='T')\n",
    "rng"
   ]
  },
  {
   "cell_type": "code",
   "execution_count": 44,
   "metadata": {
    "collapsed": false
   },
   "outputs": [
    {
     "data": {
      "text/plain": [
       "DatetimeIndex(['2012-06-01 09:30:00', '2012-06-01 09:31:00',\n",
       "               '2012-06-01 09:32:00', '2012-06-01 09:33:00',\n",
       "               '2012-06-01 09:34:00', '2012-06-01 09:35:00',\n",
       "               '2012-06-01 09:36:00', '2012-06-01 09:37:00',\n",
       "               '2012-06-01 09:38:00', '2012-06-01 09:39:00',\n",
       "               ...\n",
       "               '2012-06-06 15:50:00', '2012-06-06 15:51:00',\n",
       "               '2012-06-06 15:52:00', '2012-06-06 15:53:00',\n",
       "               '2012-06-06 15:54:00', '2012-06-06 15:55:00',\n",
       "               '2012-06-06 15:56:00', '2012-06-06 15:57:00',\n",
       "               '2012-06-06 15:58:00', '2012-06-06 15:59:00'],\n",
       "              dtype='datetime64[ns]', length=1560, freq=None)"
      ]
     },
     "execution_count": 44,
     "metadata": {},
     "output_type": "execute_result"
    }
   ],
   "source": [
    "rng = rng.append([rng + pd.offsets.BDay(i) for i in range(1, 4)])\n",
    "rng"
   ]
  },
  {
   "cell_type": "code",
   "execution_count": 45,
   "metadata": {
    "collapsed": false
   },
   "outputs": [
    {
     "data": {
      "text/plain": [
       "2012-06-01 09:30:00       0.0\n",
       "2012-06-01 09:31:00       1.0\n",
       "2012-06-01 09:32:00       2.0\n",
       "2012-06-01 09:33:00       3.0\n",
       "2012-06-01 09:34:00       4.0\n",
       "2012-06-01 09:35:00       5.0\n",
       "2012-06-01 09:36:00       6.0\n",
       "2012-06-01 09:37:00       7.0\n",
       "2012-06-01 09:38:00       8.0\n",
       "2012-06-01 09:39:00       9.0\n",
       "2012-06-01 09:40:00      10.0\n",
       "2012-06-01 09:41:00      11.0\n",
       "2012-06-01 09:42:00      12.0\n",
       "2012-06-01 09:43:00      13.0\n",
       "2012-06-01 09:44:00      14.0\n",
       "2012-06-01 09:45:00      15.0\n",
       "2012-06-01 09:46:00      16.0\n",
       "2012-06-01 09:47:00      17.0\n",
       "2012-06-01 09:48:00      18.0\n",
       "2012-06-01 09:49:00      19.0\n",
       "2012-06-01 09:50:00      20.0\n",
       "2012-06-01 09:51:00      21.0\n",
       "2012-06-01 09:52:00      22.0\n",
       "2012-06-01 09:53:00      23.0\n",
       "2012-06-01 09:54:00      24.0\n",
       "2012-06-01 09:55:00      25.0\n",
       "2012-06-01 09:56:00      26.0\n",
       "2012-06-01 09:57:00      27.0\n",
       "2012-06-01 09:58:00      28.0\n",
       "2012-06-01 09:59:00      29.0\n",
       "                        ...  \n",
       "2012-06-06 15:30:00    1530.0\n",
       "2012-06-06 15:31:00    1531.0\n",
       "2012-06-06 15:32:00    1532.0\n",
       "2012-06-06 15:33:00    1533.0\n",
       "2012-06-06 15:34:00    1534.0\n",
       "2012-06-06 15:35:00    1535.0\n",
       "2012-06-06 15:36:00    1536.0\n",
       "2012-06-06 15:37:00    1537.0\n",
       "2012-06-06 15:38:00    1538.0\n",
       "2012-06-06 15:39:00    1539.0\n",
       "2012-06-06 15:40:00    1540.0\n",
       "2012-06-06 15:41:00    1541.0\n",
       "2012-06-06 15:42:00    1542.0\n",
       "2012-06-06 15:43:00    1543.0\n",
       "2012-06-06 15:44:00    1544.0\n",
       "2012-06-06 15:45:00    1545.0\n",
       "2012-06-06 15:46:00    1546.0\n",
       "2012-06-06 15:47:00    1547.0\n",
       "2012-06-06 15:48:00    1548.0\n",
       "2012-06-06 15:49:00    1549.0\n",
       "2012-06-06 15:50:00    1550.0\n",
       "2012-06-06 15:51:00    1551.0\n",
       "2012-06-06 15:52:00    1552.0\n",
       "2012-06-06 15:53:00    1553.0\n",
       "2012-06-06 15:54:00    1554.0\n",
       "2012-06-06 15:55:00    1555.0\n",
       "2012-06-06 15:56:00    1556.0\n",
       "2012-06-06 15:57:00    1557.0\n",
       "2012-06-06 15:58:00    1558.0\n",
       "2012-06-06 15:59:00    1559.0\n",
       "Length: 1560, dtype: float64"
      ]
     },
     "execution_count": 45,
     "metadata": {},
     "output_type": "execute_result"
    }
   ],
   "source": [
    "ts = Series(np.arange(len(rng), dtype=float), index=rng)\n",
    "ts"
   ]
  },
  {
   "cell_type": "code",
   "execution_count": 46,
   "metadata": {
    "collapsed": false
   },
   "outputs": [
    {
     "data": {
      "text/plain": [
       "2012-06-01 10:00:00      30.0\n",
       "2012-06-04 10:00:00     420.0\n",
       "2012-06-05 10:00:00     810.0\n",
       "2012-06-06 10:00:00    1200.0\n",
       "dtype: float64"
      ]
     },
     "execution_count": 46,
     "metadata": {},
     "output_type": "execute_result"
    }
   ],
   "source": [
    "ts[time(10, 0)]\n"
   ]
  },
  {
   "cell_type": "code",
   "execution_count": 47,
   "metadata": {
    "collapsed": false
   },
   "outputs": [
    {
     "data": {
      "text/plain": [
       "2012-06-01 10:00:00      30.0\n",
       "2012-06-01 10:01:00      31.0\n",
       "2012-06-04 10:00:00     420.0\n",
       "2012-06-04 10:01:00     421.0\n",
       "2012-06-05 10:00:00     810.0\n",
       "2012-06-05 10:01:00     811.0\n",
       "2012-06-06 10:00:00    1200.0\n",
       "2012-06-06 10:01:00    1201.0\n",
       "dtype: float64"
      ]
     },
     "execution_count": 47,
     "metadata": {},
     "output_type": "execute_result"
    }
   ],
   "source": [
    "ts.between_time(time(10,0), time(10,1))"
   ]
  },
  {
   "cell_type": "code",
   "execution_count": 50,
   "metadata": {
    "collapsed": false
   },
   "outputs": [
    {
     "data": {
      "text/plain": [
       "array([   0,    3,    7,    8,    9,   10,   11,   12,   13,   14,   18,\n",
       "         19,   20,   23,   25,   26,   27,   28,   29,   30,   32,   35,\n",
       "         37,   40,   42,   43,   44,   45,   47,   48,   49,   52,   53,\n",
       "         55,   56,   57,   58,   60,   61,   62,   63,   65,   67,   68,\n",
       "         69,   71,   73,   74,   75,   77,   78,   80,   81,   82,   83,\n",
       "         85,   86,   89,   94,   95,   97,   98,   99,  100,  101,  102,\n",
       "        103,  105,  106,  109,  110,  111,  112,  115,  116,  117,  118,\n",
       "        121,  122,  130,  133,  134,  135,  136,  137,  140,  146,  148,\n",
       "        149,  150,  151,  152,  155,  160,  161,  163,  167,  168,  173,\n",
       "        175,  176,  178,  180,  181,  190,  191,  194,  196,  201,  202,\n",
       "        203,  206,  209,  211,  212,  214,  216,  217,  218,  220,  221,\n",
       "        225,  226,  227,  229,  231,  232,  233,  236,  239,  240,  241,\n",
       "        242,  244,  245,  246,  247,  248,  249,  250,  253,  259,  260,\n",
       "        261,  262,  266,  267,  268,  273,  275,  276,  277,  278,  279,\n",
       "        281,  283,  286,  289,  290,  291,  294,  297,  298,  299,  302,\n",
       "        305,  306,  307,  308,  309,  311,  314,  315,  316,  317,  319,\n",
       "        321,  324,  326,  328,  329,  330,  334,  335,  336,  337,  338,\n",
       "        340,  341,  342,  344,  345,  346,  347,  348,  349,  350,  352,\n",
       "        353,  356,  360,  362,  365,  366,  367,  369,  370,  371,  372,\n",
       "        373,  375,  377,  378,  381,  384,  385,  386,  388,  390,  391,\n",
       "        393,  394,  395,  396,  397,  398,  400,  401,  402,  403,  405,\n",
       "        406,  407,  408,  410,  411,  412,  414,  415,  417,  418,  419,\n",
       "        420,  422,  424,  426,  429,  430,  431,  432,  433,  441,  445,\n",
       "        446,  447,  450,  451,  452,  456,  457,  460,  468,  469,  476,\n",
       "        477,  478,  479,  481,  484,  486,  488,  489,  490,  491,  493,\n",
       "        495,  496,  497,  498,  499,  500,  501,  502,  503,  504,  505,\n",
       "        506,  507,  508,  509,  513,  515,  516,  518,  519,  520,  521,\n",
       "        522,  524,  527,  528,  529,  530,  531,  535,  536,  537,  538,\n",
       "        540,  544,  545,  546,  547,  548,  550,  551,  553,  554,  556,\n",
       "        557,  558,  559,  560,  563,  564,  565,  572,  573,  578,  579,\n",
       "        581,  582,  584,  585,  586,  587,  589,  592,  595,  596,  600,\n",
       "        601,  602,  603,  604,  605,  608,  609,  610,  611,  614,  615,\n",
       "        616,  617,  618,  619,  620,  621,  622,  624,  625,  628,  629,\n",
       "        631,  632,  634,  638,  639,  640,  641,  642,  643,  644,  645,\n",
       "        646,  647,  648,  650,  651,  652,  653,  654,  658,  659,  662,\n",
       "        663,  664,  666,  668,  669,  670,  673,  678,  682,  685,  686,\n",
       "        688,  689,  690,  691,  692,  694,  695,  697,  699,  705,  707,\n",
       "        708,  709,  711,  712,  713,  714,  715,  716,  719,  722,  723,\n",
       "        726,  727,  729,  730,  731,  733,  740,  741,  746,  748,  749,\n",
       "        750,  751,  753,  756,  757,  759,  761,  763,  767,  769,  770,\n",
       "        771,  774,  776,  777,  778,  779,  782,  783,  785,  786,  789,\n",
       "        790,  791,  792,  793,  794,  796,  797,  798,  799,  801,  804,\n",
       "        805,  808,  809,  815,  819,  822,  823,  824,  827,  829,  830,\n",
       "        831,  832,  833,  834,  836,  838,  840,  842,  843,  844,  845,\n",
       "        846,  848,  849,  850,  851,  852,  854,  857,  858,  859,  860,\n",
       "        861,  865,  868,  872,  874,  877,  879,  880,  881,  882,  884,\n",
       "        885,  886,  887,  888,  889,  892,  893,  895,  896,  898,  899,\n",
       "        900,  901,  903,  904,  906,  907,  908,  910,  912,  915,  917,\n",
       "        918,  919,  920,  922,  924,  927,  929,  931,  933,  934,  935,\n",
       "        937,  939,  944,  945,  946,  948,  951,  952,  953,  955,  956,\n",
       "        960,  962,  964,  965,  968,  970,  972,  973,  974,  975,  977,\n",
       "        978,  980,  986,  987,  988,  989,  991,  992,  994,  997,  998,\n",
       "       1001, 1002, 1003, 1004, 1005, 1006, 1010, 1011, 1013, 1014, 1015,\n",
       "       1016, 1017, 1018, 1019, 1021, 1024, 1025, 1026, 1027, 1032, 1034,\n",
       "       1036, 1037, 1038, 1039, 1041, 1042, 1043, 1045, 1046, 1047, 1048,\n",
       "       1049, 1051, 1054, 1055, 1059, 1060, 1062, 1065, 1067, 1068, 1069,\n",
       "       1070, 1072, 1074, 1075, 1076, 1077, 1079, 1081, 1083, 1084, 1086,\n",
       "       1087, 1088, 1091, 1092, 1095, 1099, 1101, 1102, 1108, 1111, 1113,\n",
       "       1114, 1118, 1119, 1125, 1127, 1128, 1129, 1133, 1134, 1135, 1136,\n",
       "       1138, 1139, 1140, 1142, 1144, 1146, 1147, 1149, 1150, 1152, 1154,\n",
       "       1155, 1156, 1158, 1159, 1161, 1162, 1166, 1167, 1171, 1172, 1176,\n",
       "       1179, 1180, 1183, 1184, 1185, 1186, 1189, 1195, 1197, 1201, 1202,\n",
       "       1205, 1207, 1209, 1210, 1212, 1215, 1216, 1217, 1218, 1219, 1223,\n",
       "       1224, 1226, 1227, 1228, 1230, 1233, 1235, 1236, 1237, 1240, 1243,\n",
       "       1244, 1248, 1249, 1252, 1254, 1255, 1256, 1257, 1258, 1259, 1261,\n",
       "       1263, 1264, 1266, 1269, 1279, 1286, 1287, 1288, 1289, 1294, 1295,\n",
       "       1296, 1300, 1302, 1303, 1308, 1312, 1319, 1321, 1323, 1324, 1325,\n",
       "       1326, 1327, 1329, 1331, 1335, 1336, 1337, 1339, 1343, 1346, 1347,\n",
       "       1352, 1353, 1354, 1355, 1356, 1357, 1359, 1360, 1362, 1365, 1366,\n",
       "       1369, 1370, 1371, 1372, 1376, 1378, 1379, 1380, 1381, 1383, 1387,\n",
       "       1388, 1389, 1390, 1393, 1396, 1397, 1398, 1399, 1402, 1405, 1406,\n",
       "       1407, 1410, 1411, 1413, 1420, 1424, 1425, 1426, 1427, 1429, 1431,\n",
       "       1432, 1434, 1437, 1438, 1440, 1444, 1445, 1446, 1447, 1448, 1449,\n",
       "       1451, 1452, 1453, 1457, 1458, 1459, 1460, 1462, 1463, 1464, 1470,\n",
       "       1472, 1474, 1475, 1477, 1479, 1480, 1482, 1486, 1487, 1488, 1492,\n",
       "       1497, 1498, 1501, 1502, 1503, 1504, 1511, 1513, 1515, 1516, 1517,\n",
       "       1518, 1521, 1523, 1526, 1528, 1529, 1532, 1533, 1534, 1535, 1536,\n",
       "       1540, 1541, 1542, 1544, 1545, 1547, 1548, 1550, 1551, 1552, 1553,\n",
       "       1555, 1556])"
      ]
     },
     "execution_count": 50,
     "metadata": {},
     "output_type": "execute_result"
    }
   ],
   "source": [
    "indexer = np.sort(np.random.permutation(len(ts))[700:])\n",
    "indexer"
   ]
  },
  {
   "cell_type": "code",
   "execution_count": 51,
   "metadata": {
    "collapsed": false
   },
   "outputs": [
    {
     "data": {
      "text/plain": [
       "2012-06-01 09:50:00     NaN\n",
       "2012-06-01 09:51:00    21.0\n",
       "2012-06-01 09:52:00    22.0\n",
       "2012-06-01 09:53:00     NaN\n",
       "2012-06-01 09:54:00    24.0\n",
       "2012-06-01 09:55:00     NaN\n",
       "2012-06-01 09:56:00     NaN\n",
       "2012-06-01 09:57:00     NaN\n",
       "2012-06-01 09:58:00     NaN\n",
       "2012-06-01 09:59:00     NaN\n",
       "2012-06-01 10:00:00     NaN\n",
       "dtype: float64"
      ]
     },
     "execution_count": 51,
     "metadata": {},
     "output_type": "execute_result"
    }
   ],
   "source": [
    "irr_ts = ts.copy()\n",
    "irr_ts[indexer] = np.nan\n",
    "irr_ts['2012-6-1 9:50':'2012-6-1 10:00']"
   ]
  },
  {
   "cell_type": "code",
   "execution_count": 52,
   "metadata": {
    "collapsed": false
   },
   "outputs": [
    {
     "data": {
      "text/html": [
       "<div>\n",
       "<style>\n",
       "    .dataframe thead tr:only-child th {\n",
       "        text-align: right;\n",
       "    }\n",
       "\n",
       "    .dataframe thead th {\n",
       "        text-align: left;\n",
       "    }\n",
       "\n",
       "    .dataframe tbody tr th {\n",
       "        vertical-align: top;\n",
       "    }\n",
       "</style>\n",
       "<table border=\"1\" class=\"dataframe\">\n",
       "  <thead>\n",
       "    <tr style=\"text-align: right;\">\n",
       "      <th></th>\n",
       "      <th>a</th>\n",
       "      <th>b</th>\n",
       "      <th>c</th>\n",
       "    </tr>\n",
       "  </thead>\n",
       "  <tbody>\n",
       "    <tr>\n",
       "      <th>2012-06-12</th>\n",
       "      <td>1.0</td>\n",
       "      <td>1.0</td>\n",
       "      <td>1.0</td>\n",
       "    </tr>\n",
       "    <tr>\n",
       "      <th>2012-06-13</th>\n",
       "      <td>1.0</td>\n",
       "      <td>1.0</td>\n",
       "      <td>1.0</td>\n",
       "    </tr>\n",
       "    <tr>\n",
       "      <th>2012-06-14</th>\n",
       "      <td>1.0</td>\n",
       "      <td>1.0</td>\n",
       "      <td>1.0</td>\n",
       "    </tr>\n",
       "    <tr>\n",
       "      <th>2012-06-15</th>\n",
       "      <td>1.0</td>\n",
       "      <td>1.0</td>\n",
       "      <td>1.0</td>\n",
       "    </tr>\n",
       "    <tr>\n",
       "      <th>2012-06-16</th>\n",
       "      <td>1.0</td>\n",
       "      <td>1.0</td>\n",
       "      <td>1.0</td>\n",
       "    </tr>\n",
       "    <tr>\n",
       "      <th>2012-06-17</th>\n",
       "      <td>1.0</td>\n",
       "      <td>1.0</td>\n",
       "      <td>1.0</td>\n",
       "    </tr>\n",
       "  </tbody>\n",
       "</table>\n",
       "</div>"
      ],
      "text/plain": [
       "              a    b    c\n",
       "2012-06-12  1.0  1.0  1.0\n",
       "2012-06-13  1.0  1.0  1.0\n",
       "2012-06-14  1.0  1.0  1.0\n",
       "2012-06-15  1.0  1.0  1.0\n",
       "2012-06-16  1.0  1.0  1.0\n",
       "2012-06-17  1.0  1.0  1.0"
      ]
     },
     "execution_count": 52,
     "metadata": {},
     "output_type": "execute_result"
    }
   ],
   "source": [
    "data1 = DataFrame(np.ones((6, 3), dtype=float),\n",
    "                  columns=['a', 'b', 'c'],\n",
    "                  index=pd.date_range('6/12/2012', periods=6))\n",
    "data1"
   ]
  },
  {
   "cell_type": "code",
   "execution_count": 53,
   "metadata": {
    "collapsed": false
   },
   "outputs": [
    {
     "data": {
      "text/html": [
       "<div>\n",
       "<style>\n",
       "    .dataframe thead tr:only-child th {\n",
       "        text-align: right;\n",
       "    }\n",
       "\n",
       "    .dataframe thead th {\n",
       "        text-align: left;\n",
       "    }\n",
       "\n",
       "    .dataframe tbody tr th {\n",
       "        vertical-align: top;\n",
       "    }\n",
       "</style>\n",
       "<table border=\"1\" class=\"dataframe\">\n",
       "  <thead>\n",
       "    <tr style=\"text-align: right;\">\n",
       "      <th></th>\n",
       "      <th>a</th>\n",
       "      <th>b</th>\n",
       "      <th>c</th>\n",
       "    </tr>\n",
       "  </thead>\n",
       "  <tbody>\n",
       "    <tr>\n",
       "      <th>2012-06-13</th>\n",
       "      <td>2.0</td>\n",
       "      <td>2.0</td>\n",
       "      <td>2.0</td>\n",
       "    </tr>\n",
       "    <tr>\n",
       "      <th>2012-06-14</th>\n",
       "      <td>2.0</td>\n",
       "      <td>2.0</td>\n",
       "      <td>2.0</td>\n",
       "    </tr>\n",
       "    <tr>\n",
       "      <th>2012-06-15</th>\n",
       "      <td>2.0</td>\n",
       "      <td>2.0</td>\n",
       "      <td>2.0</td>\n",
       "    </tr>\n",
       "    <tr>\n",
       "      <th>2012-06-16</th>\n",
       "      <td>2.0</td>\n",
       "      <td>2.0</td>\n",
       "      <td>2.0</td>\n",
       "    </tr>\n",
       "    <tr>\n",
       "      <th>2012-06-17</th>\n",
       "      <td>2.0</td>\n",
       "      <td>2.0</td>\n",
       "      <td>2.0</td>\n",
       "    </tr>\n",
       "    <tr>\n",
       "      <th>2012-06-18</th>\n",
       "      <td>2.0</td>\n",
       "      <td>2.0</td>\n",
       "      <td>2.0</td>\n",
       "    </tr>\n",
       "  </tbody>\n",
       "</table>\n",
       "</div>"
      ],
      "text/plain": [
       "              a    b    c\n",
       "2012-06-13  2.0  2.0  2.0\n",
       "2012-06-14  2.0  2.0  2.0\n",
       "2012-06-15  2.0  2.0  2.0\n",
       "2012-06-16  2.0  2.0  2.0\n",
       "2012-06-17  2.0  2.0  2.0\n",
       "2012-06-18  2.0  2.0  2.0"
      ]
     },
     "execution_count": 53,
     "metadata": {},
     "output_type": "execute_result"
    }
   ],
   "source": [
    "data2 = DataFrame(np.ones((6, 3), dtype=float) * 2,\n",
    "                  columns=['a', 'b', 'c'],\n",
    "                  index=pd.date_range('6/13/2012', periods=6))\n",
    "data2"
   ]
  },
  {
   "cell_type": "code",
   "execution_count": 54,
   "metadata": {
    "collapsed": false
   },
   "outputs": [
    {
     "name": "stderr",
     "output_type": "stream",
     "text": [
      "e:\\python34\\lib\\site-packages\\ipykernel\\__main__.py:1: DeprecationWarning: \n",
      ".ix is deprecated. Please use\n",
      ".loc for label based indexing or\n",
      ".iloc for positional indexing\n",
      "\n",
      "See the documentation here:\n",
      "http://pandas.pydata.org/pandas-docs/stable/indexing.html#deprecate_ix\n",
      "  if __name__ == '__main__':\n"
     ]
    },
    {
     "data": {
      "text/html": [
       "<div>\n",
       "<style>\n",
       "    .dataframe thead tr:only-child th {\n",
       "        text-align: right;\n",
       "    }\n",
       "\n",
       "    .dataframe thead th {\n",
       "        text-align: left;\n",
       "    }\n",
       "\n",
       "    .dataframe tbody tr th {\n",
       "        vertical-align: top;\n",
       "    }\n",
       "</style>\n",
       "<table border=\"1\" class=\"dataframe\">\n",
       "  <thead>\n",
       "    <tr style=\"text-align: right;\">\n",
       "      <th></th>\n",
       "      <th>a</th>\n",
       "      <th>b</th>\n",
       "      <th>c</th>\n",
       "    </tr>\n",
       "  </thead>\n",
       "  <tbody>\n",
       "    <tr>\n",
       "      <th>2012-06-12</th>\n",
       "      <td>1.0</td>\n",
       "      <td>1.0</td>\n",
       "      <td>1.0</td>\n",
       "    </tr>\n",
       "    <tr>\n",
       "      <th>2012-06-13</th>\n",
       "      <td>1.0</td>\n",
       "      <td>1.0</td>\n",
       "      <td>1.0</td>\n",
       "    </tr>\n",
       "    <tr>\n",
       "      <th>2012-06-14</th>\n",
       "      <td>1.0</td>\n",
       "      <td>1.0</td>\n",
       "      <td>1.0</td>\n",
       "    </tr>\n",
       "    <tr>\n",
       "      <th>2012-06-15</th>\n",
       "      <td>2.0</td>\n",
       "      <td>2.0</td>\n",
       "      <td>2.0</td>\n",
       "    </tr>\n",
       "    <tr>\n",
       "      <th>2012-06-16</th>\n",
       "      <td>2.0</td>\n",
       "      <td>2.0</td>\n",
       "      <td>2.0</td>\n",
       "    </tr>\n",
       "    <tr>\n",
       "      <th>2012-06-17</th>\n",
       "      <td>2.0</td>\n",
       "      <td>2.0</td>\n",
       "      <td>2.0</td>\n",
       "    </tr>\n",
       "    <tr>\n",
       "      <th>2012-06-18</th>\n",
       "      <td>2.0</td>\n",
       "      <td>2.0</td>\n",
       "      <td>2.0</td>\n",
       "    </tr>\n",
       "  </tbody>\n",
       "</table>\n",
       "</div>"
      ],
      "text/plain": [
       "              a    b    c\n",
       "2012-06-12  1.0  1.0  1.0\n",
       "2012-06-13  1.0  1.0  1.0\n",
       "2012-06-14  1.0  1.0  1.0\n",
       "2012-06-15  2.0  2.0  2.0\n",
       "2012-06-16  2.0  2.0  2.0\n",
       "2012-06-17  2.0  2.0  2.0\n",
       "2012-06-18  2.0  2.0  2.0"
      ]
     },
     "execution_count": 54,
     "metadata": {},
     "output_type": "execute_result"
    }
   ],
   "source": [
    "spliced = pd.concat([data1.ix[:'2012-06-14'], data2.ix['2012-06-15':]])\n",
    "spliced"
   ]
  },
  {
   "cell_type": "code",
   "execution_count": 55,
   "metadata": {
    "collapsed": false
   },
   "outputs": [
    {
     "data": {
      "text/html": [
       "<div>\n",
       "<style>\n",
       "    .dataframe thead tr:only-child th {\n",
       "        text-align: right;\n",
       "    }\n",
       "\n",
       "    .dataframe thead th {\n",
       "        text-align: left;\n",
       "    }\n",
       "\n",
       "    .dataframe tbody tr th {\n",
       "        vertical-align: top;\n",
       "    }\n",
       "</style>\n",
       "<table border=\"1\" class=\"dataframe\">\n",
       "  <thead>\n",
       "    <tr style=\"text-align: right;\">\n",
       "      <th></th>\n",
       "      <th>a</th>\n",
       "      <th>b</th>\n",
       "      <th>c</th>\n",
       "      <th>d</th>\n",
       "    </tr>\n",
       "  </thead>\n",
       "  <tbody>\n",
       "    <tr>\n",
       "      <th>2012-06-13</th>\n",
       "      <td>2.0</td>\n",
       "      <td>2.0</td>\n",
       "      <td>2.0</td>\n",
       "      <td>2.0</td>\n",
       "    </tr>\n",
       "    <tr>\n",
       "      <th>2012-06-14</th>\n",
       "      <td>2.0</td>\n",
       "      <td>2.0</td>\n",
       "      <td>2.0</td>\n",
       "      <td>2.0</td>\n",
       "    </tr>\n",
       "    <tr>\n",
       "      <th>2012-06-15</th>\n",
       "      <td>2.0</td>\n",
       "      <td>2.0</td>\n",
       "      <td>2.0</td>\n",
       "      <td>2.0</td>\n",
       "    </tr>\n",
       "    <tr>\n",
       "      <th>2012-06-16</th>\n",
       "      <td>2.0</td>\n",
       "      <td>2.0</td>\n",
       "      <td>2.0</td>\n",
       "      <td>2.0</td>\n",
       "    </tr>\n",
       "    <tr>\n",
       "      <th>2012-06-17</th>\n",
       "      <td>2.0</td>\n",
       "      <td>2.0</td>\n",
       "      <td>2.0</td>\n",
       "      <td>2.0</td>\n",
       "    </tr>\n",
       "    <tr>\n",
       "      <th>2012-06-18</th>\n",
       "      <td>2.0</td>\n",
       "      <td>2.0</td>\n",
       "      <td>2.0</td>\n",
       "      <td>2.0</td>\n",
       "    </tr>\n",
       "  </tbody>\n",
       "</table>\n",
       "</div>"
      ],
      "text/plain": [
       "              a    b    c    d\n",
       "2012-06-13  2.0  2.0  2.0  2.0\n",
       "2012-06-14  2.0  2.0  2.0  2.0\n",
       "2012-06-15  2.0  2.0  2.0  2.0\n",
       "2012-06-16  2.0  2.0  2.0  2.0\n",
       "2012-06-17  2.0  2.0  2.0  2.0\n",
       "2012-06-18  2.0  2.0  2.0  2.0"
      ]
     },
     "execution_count": 55,
     "metadata": {},
     "output_type": "execute_result"
    }
   ],
   "source": [
    "data2 = DataFrame(np.ones((6, 4), dtype=float) * 2,\n",
    "                  columns=['a', 'b', 'c', 'd'],\n",
    "                  index=pd.date_range('6/13/2012', periods=6))\n",
    "data2"
   ]
  },
  {
   "cell_type": "code",
   "execution_count": 56,
   "metadata": {
    "collapsed": false
   },
   "outputs": [
    {
     "name": "stderr",
     "output_type": "stream",
     "text": [
      "e:\\python34\\lib\\site-packages\\ipykernel\\__main__.py:1: DeprecationWarning: \n",
      ".ix is deprecated. Please use\n",
      ".loc for label based indexing or\n",
      ".iloc for positional indexing\n",
      "\n",
      "See the documentation here:\n",
      "http://pandas.pydata.org/pandas-docs/stable/indexing.html#deprecate_ix\n",
      "  if __name__ == '__main__':\n"
     ]
    },
    {
     "data": {
      "text/html": [
       "<div>\n",
       "<style>\n",
       "    .dataframe thead tr:only-child th {\n",
       "        text-align: right;\n",
       "    }\n",
       "\n",
       "    .dataframe thead th {\n",
       "        text-align: left;\n",
       "    }\n",
       "\n",
       "    .dataframe tbody tr th {\n",
       "        vertical-align: top;\n",
       "    }\n",
       "</style>\n",
       "<table border=\"1\" class=\"dataframe\">\n",
       "  <thead>\n",
       "    <tr style=\"text-align: right;\">\n",
       "      <th></th>\n",
       "      <th>a</th>\n",
       "      <th>b</th>\n",
       "      <th>c</th>\n",
       "      <th>d</th>\n",
       "    </tr>\n",
       "  </thead>\n",
       "  <tbody>\n",
       "    <tr>\n",
       "      <th>2012-06-12</th>\n",
       "      <td>1.0</td>\n",
       "      <td>1.0</td>\n",
       "      <td>1.0</td>\n",
       "      <td>NaN</td>\n",
       "    </tr>\n",
       "    <tr>\n",
       "      <th>2012-06-13</th>\n",
       "      <td>1.0</td>\n",
       "      <td>1.0</td>\n",
       "      <td>1.0</td>\n",
       "      <td>NaN</td>\n",
       "    </tr>\n",
       "    <tr>\n",
       "      <th>2012-06-14</th>\n",
       "      <td>1.0</td>\n",
       "      <td>1.0</td>\n",
       "      <td>1.0</td>\n",
       "      <td>NaN</td>\n",
       "    </tr>\n",
       "    <tr>\n",
       "      <th>2012-06-15</th>\n",
       "      <td>2.0</td>\n",
       "      <td>2.0</td>\n",
       "      <td>2.0</td>\n",
       "      <td>2.0</td>\n",
       "    </tr>\n",
       "    <tr>\n",
       "      <th>2012-06-16</th>\n",
       "      <td>2.0</td>\n",
       "      <td>2.0</td>\n",
       "      <td>2.0</td>\n",
       "      <td>2.0</td>\n",
       "    </tr>\n",
       "    <tr>\n",
       "      <th>2012-06-17</th>\n",
       "      <td>2.0</td>\n",
       "      <td>2.0</td>\n",
       "      <td>2.0</td>\n",
       "      <td>2.0</td>\n",
       "    </tr>\n",
       "    <tr>\n",
       "      <th>2012-06-18</th>\n",
       "      <td>2.0</td>\n",
       "      <td>2.0</td>\n",
       "      <td>2.0</td>\n",
       "      <td>2.0</td>\n",
       "    </tr>\n",
       "  </tbody>\n",
       "</table>\n",
       "</div>"
      ],
      "text/plain": [
       "              a    b    c    d\n",
       "2012-06-12  1.0  1.0  1.0  NaN\n",
       "2012-06-13  1.0  1.0  1.0  NaN\n",
       "2012-06-14  1.0  1.0  1.0  NaN\n",
       "2012-06-15  2.0  2.0  2.0  2.0\n",
       "2012-06-16  2.0  2.0  2.0  2.0\n",
       "2012-06-17  2.0  2.0  2.0  2.0\n",
       "2012-06-18  2.0  2.0  2.0  2.0"
      ]
     },
     "execution_count": 56,
     "metadata": {},
     "output_type": "execute_result"
    }
   ],
   "source": [
    "spliced = pd.concat([data1.ix[:'2012-06-14'], data2.ix['2012-06-15':]])\n",
    "spliced"
   ]
  },
  {
   "cell_type": "code",
   "execution_count": 57,
   "metadata": {
    "collapsed": false
   },
   "outputs": [
    {
     "data": {
      "text/html": [
       "<div>\n",
       "<style>\n",
       "    .dataframe thead tr:only-child th {\n",
       "        text-align: right;\n",
       "    }\n",
       "\n",
       "    .dataframe thead th {\n",
       "        text-align: left;\n",
       "    }\n",
       "\n",
       "    .dataframe tbody tr th {\n",
       "        vertical-align: top;\n",
       "    }\n",
       "</style>\n",
       "<table border=\"1\" class=\"dataframe\">\n",
       "  <thead>\n",
       "    <tr style=\"text-align: right;\">\n",
       "      <th></th>\n",
       "      <th>a</th>\n",
       "      <th>b</th>\n",
       "      <th>c</th>\n",
       "      <th>d</th>\n",
       "    </tr>\n",
       "  </thead>\n",
       "  <tbody>\n",
       "    <tr>\n",
       "      <th>2012-06-12</th>\n",
       "      <td>1.0</td>\n",
       "      <td>1.0</td>\n",
       "      <td>1.0</td>\n",
       "      <td>NaN</td>\n",
       "    </tr>\n",
       "    <tr>\n",
       "      <th>2012-06-13</th>\n",
       "      <td>1.0</td>\n",
       "      <td>1.0</td>\n",
       "      <td>1.0</td>\n",
       "      <td>2.0</td>\n",
       "    </tr>\n",
       "    <tr>\n",
       "      <th>2012-06-14</th>\n",
       "      <td>1.0</td>\n",
       "      <td>1.0</td>\n",
       "      <td>1.0</td>\n",
       "      <td>2.0</td>\n",
       "    </tr>\n",
       "    <tr>\n",
       "      <th>2012-06-15</th>\n",
       "      <td>2.0</td>\n",
       "      <td>2.0</td>\n",
       "      <td>2.0</td>\n",
       "      <td>2.0</td>\n",
       "    </tr>\n",
       "    <tr>\n",
       "      <th>2012-06-16</th>\n",
       "      <td>2.0</td>\n",
       "      <td>2.0</td>\n",
       "      <td>2.0</td>\n",
       "      <td>2.0</td>\n",
       "    </tr>\n",
       "    <tr>\n",
       "      <th>2012-06-17</th>\n",
       "      <td>2.0</td>\n",
       "      <td>2.0</td>\n",
       "      <td>2.0</td>\n",
       "      <td>2.0</td>\n",
       "    </tr>\n",
       "    <tr>\n",
       "      <th>2012-06-18</th>\n",
       "      <td>2.0</td>\n",
       "      <td>2.0</td>\n",
       "      <td>2.0</td>\n",
       "      <td>2.0</td>\n",
       "    </tr>\n",
       "  </tbody>\n",
       "</table>\n",
       "</div>"
      ],
      "text/plain": [
       "              a    b    c    d\n",
       "2012-06-12  1.0  1.0  1.0  NaN\n",
       "2012-06-13  1.0  1.0  1.0  2.0\n",
       "2012-06-14  1.0  1.0  1.0  2.0\n",
       "2012-06-15  2.0  2.0  2.0  2.0\n",
       "2012-06-16  2.0  2.0  2.0  2.0\n",
       "2012-06-17  2.0  2.0  2.0  2.0\n",
       "2012-06-18  2.0  2.0  2.0  2.0"
      ]
     },
     "execution_count": 57,
     "metadata": {},
     "output_type": "execute_result"
    }
   ],
   "source": [
    "spliced_filled = spliced.combine_first(data2)\n",
    "spliced_filled"
   ]
  },
  {
   "cell_type": "code",
   "execution_count": 59,
   "metadata": {
    "collapsed": false
   },
   "outputs": [
    {
     "data": {
      "text/html": [
       "<div>\n",
       "<style>\n",
       "    .dataframe thead tr:only-child th {\n",
       "        text-align: right;\n",
       "    }\n",
       "\n",
       "    .dataframe thead th {\n",
       "        text-align: left;\n",
       "    }\n",
       "\n",
       "    .dataframe tbody tr th {\n",
       "        vertical-align: top;\n",
       "    }\n",
       "</style>\n",
       "<table border=\"1\" class=\"dataframe\">\n",
       "  <thead>\n",
       "    <tr style=\"text-align: right;\">\n",
       "      <th></th>\n",
       "      <th>a</th>\n",
       "      <th>b</th>\n",
       "      <th>c</th>\n",
       "      <th>d</th>\n",
       "    </tr>\n",
       "  </thead>\n",
       "  <tbody>\n",
       "    <tr>\n",
       "      <th>2012-06-12</th>\n",
       "      <td>1.0</td>\n",
       "      <td>1.0</td>\n",
       "      <td>1.0</td>\n",
       "      <td>NaN</td>\n",
       "    </tr>\n",
       "    <tr>\n",
       "      <th>2012-06-13</th>\n",
       "      <td>1.0</td>\n",
       "      <td>1.0</td>\n",
       "      <td>1.0</td>\n",
       "      <td>2.0</td>\n",
       "    </tr>\n",
       "    <tr>\n",
       "      <th>2012-06-14</th>\n",
       "      <td>1.0</td>\n",
       "      <td>1.0</td>\n",
       "      <td>1.0</td>\n",
       "      <td>2.0</td>\n",
       "    </tr>\n",
       "    <tr>\n",
       "      <th>2012-06-15</th>\n",
       "      <td>2.0</td>\n",
       "      <td>2.0</td>\n",
       "      <td>2.0</td>\n",
       "      <td>2.0</td>\n",
       "    </tr>\n",
       "    <tr>\n",
       "      <th>2012-06-16</th>\n",
       "      <td>2.0</td>\n",
       "      <td>2.0</td>\n",
       "      <td>2.0</td>\n",
       "      <td>2.0</td>\n",
       "    </tr>\n",
       "    <tr>\n",
       "      <th>2012-06-17</th>\n",
       "      <td>2.0</td>\n",
       "      <td>2.0</td>\n",
       "      <td>2.0</td>\n",
       "      <td>2.0</td>\n",
       "    </tr>\n",
       "    <tr>\n",
       "      <th>2012-06-18</th>\n",
       "      <td>2.0</td>\n",
       "      <td>2.0</td>\n",
       "      <td>2.0</td>\n",
       "      <td>2.0</td>\n",
       "    </tr>\n",
       "  </tbody>\n",
       "</table>\n",
       "</div>"
      ],
      "text/plain": [
       "              a    b    c    d\n",
       "2012-06-12  1.0  1.0  1.0  NaN\n",
       "2012-06-13  1.0  1.0  1.0  2.0\n",
       "2012-06-14  1.0  1.0  1.0  2.0\n",
       "2012-06-15  2.0  2.0  2.0  2.0\n",
       "2012-06-16  2.0  2.0  2.0  2.0\n",
       "2012-06-17  2.0  2.0  2.0  2.0\n",
       "2012-06-18  2.0  2.0  2.0  2.0"
      ]
     },
     "execution_count": 59,
     "metadata": {},
     "output_type": "execute_result"
    }
   ],
   "source": [
    "spliced.update(data2, overwrite=False)\n",
    "spliced"
   ]
  },
  {
   "cell_type": "code",
   "execution_count": 60,
   "metadata": {
    "collapsed": false
   },
   "outputs": [
    {
     "data": {
      "text/html": [
       "<div>\n",
       "<style>\n",
       "    .dataframe thead tr:only-child th {\n",
       "        text-align: right;\n",
       "    }\n",
       "\n",
       "    .dataframe thead th {\n",
       "        text-align: left;\n",
       "    }\n",
       "\n",
       "    .dataframe tbody tr th {\n",
       "        vertical-align: top;\n",
       "    }\n",
       "</style>\n",
       "<table border=\"1\" class=\"dataframe\">\n",
       "  <thead>\n",
       "    <tr style=\"text-align: right;\">\n",
       "      <th></th>\n",
       "      <th>a</th>\n",
       "      <th>b</th>\n",
       "      <th>c</th>\n",
       "      <th>d</th>\n",
       "    </tr>\n",
       "  </thead>\n",
       "  <tbody>\n",
       "    <tr>\n",
       "      <th>2012-06-12</th>\n",
       "      <td>1.0</td>\n",
       "      <td>1.0</td>\n",
       "      <td>1.0</td>\n",
       "      <td>NaN</td>\n",
       "    </tr>\n",
       "    <tr>\n",
       "      <th>2012-06-13</th>\n",
       "      <td>1.0</td>\n",
       "      <td>1.0</td>\n",
       "      <td>1.0</td>\n",
       "      <td>2.0</td>\n",
       "    </tr>\n",
       "    <tr>\n",
       "      <th>2012-06-14</th>\n",
       "      <td>1.0</td>\n",
       "      <td>1.0</td>\n",
       "      <td>1.0</td>\n",
       "      <td>2.0</td>\n",
       "    </tr>\n",
       "    <tr>\n",
       "      <th>2012-06-15</th>\n",
       "      <td>1.0</td>\n",
       "      <td>2.0</td>\n",
       "      <td>1.0</td>\n",
       "      <td>2.0</td>\n",
       "    </tr>\n",
       "    <tr>\n",
       "      <th>2012-06-16</th>\n",
       "      <td>1.0</td>\n",
       "      <td>2.0</td>\n",
       "      <td>1.0</td>\n",
       "      <td>2.0</td>\n",
       "    </tr>\n",
       "    <tr>\n",
       "      <th>2012-06-17</th>\n",
       "      <td>1.0</td>\n",
       "      <td>2.0</td>\n",
       "      <td>1.0</td>\n",
       "      <td>2.0</td>\n",
       "    </tr>\n",
       "    <tr>\n",
       "      <th>2012-06-18</th>\n",
       "      <td>NaN</td>\n",
       "      <td>2.0</td>\n",
       "      <td>NaN</td>\n",
       "      <td>2.0</td>\n",
       "    </tr>\n",
       "  </tbody>\n",
       "</table>\n",
       "</div>"
      ],
      "text/plain": [
       "              a    b    c    d\n",
       "2012-06-12  1.0  1.0  1.0  NaN\n",
       "2012-06-13  1.0  1.0  1.0  2.0\n",
       "2012-06-14  1.0  1.0  1.0  2.0\n",
       "2012-06-15  1.0  2.0  1.0  2.0\n",
       "2012-06-16  1.0  2.0  1.0  2.0\n",
       "2012-06-17  1.0  2.0  1.0  2.0\n",
       "2012-06-18  NaN  2.0  NaN  2.0"
      ]
     },
     "execution_count": 60,
     "metadata": {},
     "output_type": "execute_result"
    }
   ],
   "source": [
    "cp_spliced = spliced.copy()\n",
    "cp_spliced[['a', 'c']] = data1[['a', 'c']]\n",
    "cp_spliced"
   ]
  },
  {
   "cell_type": "code",
   "execution_count": 64,
   "metadata": {
    "collapsed": false
   },
   "outputs": [],
   "source": [
    "import pandas_datareader.data as web"
   ]
  },
  {
   "cell_type": "code",
   "execution_count": 67,
   "metadata": {
    "collapsed": false
   },
   "outputs": [],
   "source": [
    "price = web.get_data_yahoo('AAPL', '2011-01-01')['Adj Close']"
   ]
  },
  {
   "cell_type": "code",
   "execution_count": 68,
   "metadata": {
    "collapsed": false
   },
   "outputs": [
    {
     "data": {
      "text/plain": [
       "Date\n",
       "2010-12-31     41.307659\n",
       "2011-01-03     42.205372\n",
       "2011-01-04     42.425640\n",
       "2011-01-05     42.772678\n",
       "2011-01-06     42.738106\n",
       "2011-01-07     43.044174\n",
       "2011-01-10     43.854801\n",
       "2011-01-11     43.751068\n",
       "2011-01-12     44.107086\n",
       "2011-01-13     44.268444\n",
       "2011-01-14     44.627010\n",
       "2011-01-18     43.624294\n",
       "2011-01-19     43.392506\n",
       "2011-01-20     42.603642\n",
       "2011-01-21     41.840389\n",
       "2011-01-24     43.214500\n",
       "2011-01-25     43.720352\n",
       "2011-01-26     44.034092\n",
       "2011-01-27     43.952141\n",
       "2011-01-28     43.041607\n",
       "2011-01-31     43.453972\n",
       "2011-02-01     44.185204\n",
       "2011-02-02     44.094288\n",
       "2011-02-03     43.981586\n",
       "2011-02-04     44.373455\n",
       "2011-02-07     45.062424\n",
       "2011-02-08     45.487595\n",
       "2011-02-09     45.866653\n",
       "2011-02-10     45.403076\n",
       "2011-02-11     45.698891\n",
       "                 ...    \n",
       "2017-11-17    170.149994\n",
       "2017-11-20    169.979996\n",
       "2017-11-21    173.139999\n",
       "2017-11-22    174.960007\n",
       "2017-11-24    174.970001\n",
       "2017-11-27    174.089996\n",
       "2017-11-28    173.070007\n",
       "2017-11-29    169.479996\n",
       "2017-11-30    171.850006\n",
       "2017-12-01    171.050003\n",
       "2017-12-04    169.800003\n",
       "2017-12-05    169.639999\n",
       "2017-12-06    169.009995\n",
       "2017-12-07    169.320007\n",
       "2017-12-08    169.369995\n",
       "2017-12-11    172.669998\n",
       "2017-12-12    171.699997\n",
       "2017-12-13    172.270004\n",
       "2017-12-14    172.220001\n",
       "2017-12-15    173.970001\n",
       "2017-12-18    176.419998\n",
       "2017-12-19    174.539993\n",
       "2017-12-20    174.350006\n",
       "2017-12-21    175.009995\n",
       "2017-12-22    175.009995\n",
       "2017-12-26    170.570007\n",
       "2017-12-27    170.600006\n",
       "2017-12-28    171.080002\n",
       "2017-12-29    169.229996\n",
       "2018-01-02    172.259995\n",
       "Name: Adj Close, Length: 1763, dtype: float64"
      ]
     },
     "execution_count": 68,
     "metadata": {},
     "output_type": "execute_result"
    }
   ],
   "source": [
    "price"
   ]
  },
  {
   "cell_type": "code",
   "execution_count": 69,
   "metadata": {
    "collapsed": false
   },
   "outputs": [
    {
     "data": {
      "text/plain": [
       "Date\n",
       "2017-12-26    170.570007\n",
       "2017-12-27    170.600006\n",
       "2017-12-28    171.080002\n",
       "2017-12-29    169.229996\n",
       "2018-01-02    172.259995\n",
       "Name: Adj Close, dtype: float64"
      ]
     },
     "execution_count": 69,
     "metadata": {},
     "output_type": "execute_result"
    }
   ],
   "source": [
    "price[-5:]"
   ]
  },
  {
   "cell_type": "code",
   "execution_count": 70,
   "metadata": {
    "collapsed": false
   },
   "outputs": [
    {
     "data": {
      "text/plain": [
       "0.072399849856854992"
      ]
     },
     "execution_count": 70,
     "metadata": {},
     "output_type": "execute_result"
    }
   ],
   "source": [
    "price['2011-10-03'] / price['2011-3-01'] - 1"
   ]
  },
  {
   "cell_type": "code",
   "execution_count": 71,
   "metadata": {
    "collapsed": false
   },
   "outputs": [
    {
     "data": {
      "text/plain": [
       "Date\n",
       "2010-12-31         NaN\n",
       "2011-01-03    0.021732\n",
       "2011-01-04    0.005219\n",
       "2011-01-05    0.008180\n",
       "2011-01-06   -0.000808\n",
       "2011-01-07    0.007161\n",
       "2011-01-10    0.018832\n",
       "2011-01-11   -0.002365\n",
       "2011-01-12    0.008137\n",
       "2011-01-13    0.003658\n",
       "2011-01-14    0.008100\n",
       "2011-01-18   -0.022469\n",
       "2011-01-19   -0.005313\n",
       "2011-01-20   -0.018180\n",
       "2011-01-21   -0.017915\n",
       "2011-01-24    0.032842\n",
       "2011-01-25    0.011706\n",
       "2011-01-26    0.007176\n",
       "2011-01-27   -0.001861\n",
       "2011-01-28   -0.020716\n",
       "2011-01-31    0.009581\n",
       "2011-02-01    0.016828\n",
       "2011-02-02   -0.002058\n",
       "2011-02-03   -0.002556\n",
       "2011-02-04    0.008910\n",
       "2011-02-07    0.015527\n",
       "2011-02-08    0.009435\n",
       "2011-02-09    0.008333\n",
       "2011-02-10   -0.010107\n",
       "2011-02-11    0.006515\n",
       "                ...   \n",
       "2017-11-17   -0.005552\n",
       "2017-11-20   -0.000999\n",
       "2017-11-21    0.018590\n",
       "2017-11-22    0.010512\n",
       "2017-11-24    0.000057\n",
       "2017-11-27   -0.005029\n",
       "2017-11-28   -0.005859\n",
       "2017-11-29   -0.020743\n",
       "2017-11-30    0.013984\n",
       "2017-12-01   -0.004655\n",
       "2017-12-04   -0.007308\n",
       "2017-12-05   -0.000942\n",
       "2017-12-06   -0.003714\n",
       "2017-12-07    0.001834\n",
       "2017-12-08    0.000295\n",
       "2017-12-11    0.019484\n",
       "2017-12-12   -0.005618\n",
       "2017-12-13    0.003320\n",
       "2017-12-14   -0.000290\n",
       "2017-12-15    0.010161\n",
       "2017-12-18    0.014083\n",
       "2017-12-19   -0.010656\n",
       "2017-12-20   -0.001089\n",
       "2017-12-21    0.003785\n",
       "2017-12-22    0.000000\n",
       "2017-12-26   -0.025370\n",
       "2017-12-27    0.000176\n",
       "2017-12-28    0.002814\n",
       "2017-12-29   -0.010814\n",
       "2018-01-02    0.017905\n",
       "Name: Adj Close, Length: 1763, dtype: float64"
      ]
     },
     "execution_count": 71,
     "metadata": {},
     "output_type": "execute_result"
    }
   ],
   "source": [
    "returns = price.pct_change()\n",
    "returns"
   ]
  },
  {
   "cell_type": "code",
   "execution_count": 73,
   "metadata": {
    "collapsed": false
   },
   "outputs": [
    {
     "data": {
      "text/plain": [
       "Date\n",
       "2010-12-31    1.000000\n",
       "2011-01-03    1.021732\n",
       "2011-01-04    1.027065\n",
       "2011-01-05    1.035466\n",
       "2011-01-06    1.034629\n",
       "2011-01-07    1.042039\n",
       "2011-01-10    1.061663\n",
       "2011-01-11    1.059151\n",
       "2011-01-12    1.067770\n",
       "2011-01-13    1.071676\n",
       "2011-01-14    1.080357\n",
       "2011-01-18    1.056082\n",
       "2011-01-19    1.050471\n",
       "2011-01-20    1.031374\n",
       "2011-01-21    1.012897\n",
       "2011-01-24    1.046162\n",
       "2011-01-25    1.058408\n",
       "2011-01-26    1.066003\n",
       "2011-01-27    1.064019\n",
       "2011-01-28    1.041976\n",
       "2011-01-31    1.051959\n",
       "2011-02-01    1.069661\n",
       "2011-02-02    1.067460\n",
       "2011-02-03    1.064732\n",
       "2011-02-04    1.074219\n",
       "2011-02-07    1.090898\n",
       "2011-02-08    1.101190\n",
       "2011-02-09    1.110367\n",
       "2011-02-10    1.099144\n",
       "2011-02-11    1.106306\n",
       "                ...   \n",
       "2017-11-17    4.119091\n",
       "2017-11-20    4.114975\n",
       "2017-11-21    4.191474\n",
       "2017-11-22    4.235534\n",
       "2017-11-24    4.235776\n",
       "2017-11-27    4.214473\n",
       "2017-11-28    4.189780\n",
       "2017-11-29    4.102871\n",
       "2017-11-30    4.160246\n",
       "2017-12-01    4.140879\n",
       "2017-12-04    4.110618\n",
       "2017-12-05    4.106744\n",
       "2017-12-06    4.091493\n",
       "2017-12-07    4.098998\n",
       "2017-12-08    4.100208\n",
       "2017-12-11    4.180096\n",
       "2017-12-12    4.156614\n",
       "2017-12-13    4.170413\n",
       "2017-12-14    4.169203\n",
       "2017-12-15    4.211568\n",
       "2017-12-18    4.270879\n",
       "2017-12-19    4.225366\n",
       "2017-12-20    4.220767\n",
       "2017-12-21    4.236744\n",
       "2017-12-22    4.236744\n",
       "2017-12-26    4.129259\n",
       "2017-12-27    4.129985\n",
       "2017-12-28    4.141605\n",
       "2017-12-29    4.096819\n",
       "2018-01-02    4.170171\n",
       "Name: Adj Close, Length: 1763, dtype: float64"
      ]
     },
     "execution_count": 73,
     "metadata": {},
     "output_type": "execute_result"
    }
   ],
   "source": [
    "ret_index = (1 + returns).cumprod()\n",
    "ret_index[0] = 1\n",
    "ret_index"
   ]
  },
  {
   "cell_type": "code",
   "execution_count": 75,
   "metadata": {
    "collapsed": false
   },
   "outputs": [
    {
     "name": "stderr",
     "output_type": "stream",
     "text": [
      "e:\\python34\\lib\\site-packages\\ipykernel\\__main__.py:1: FutureWarning: how in .resample() is deprecated\n",
      "the new syntax is .resample(...).last()\n",
      "  if __name__ == '__main__':\n"
     ]
    },
    {
     "data": {
      "text/plain": [
       "Date\n",
       "2010-12-31         NaN\n",
       "2011-01-31    0.051959\n",
       "2011-02-28    0.040935\n",
       "2011-03-31   -0.013307\n",
       "2011-04-29    0.004648\n",
       "2011-05-31   -0.006569\n",
       "2011-06-30   -0.034959\n",
       "2011-07-29    0.163285\n",
       "2011-08-31   -0.014469\n",
       "2011-09-30   -0.009121\n",
       "2011-10-31    0.061523\n",
       "2011-11-30   -0.055783\n",
       "2011-12-30    0.059655\n",
       "2012-01-31    0.127111\n",
       "2012-02-29    0.188311\n",
       "2012-03-30    0.105283\n",
       "2012-04-30   -0.025970\n",
       "2012-05-31   -0.010702\n",
       "2012-06-29    0.010853\n",
       "2012-07-31    0.045822\n",
       "2012-08-31    0.093877\n",
       "2012-09-28    0.002796\n",
       "2012-10-31   -0.107600\n",
       "2012-11-30   -0.012375\n",
       "2012-12-31   -0.090743\n",
       "2013-01-31   -0.144089\n",
       "2013-02-28   -0.025286\n",
       "2013-03-29    0.002854\n",
       "2013-04-30    0.000271\n",
       "2013-05-31    0.022419\n",
       "                ...   \n",
       "2015-08-31   -0.066196\n",
       "2015-09-30   -0.021816\n",
       "2015-10-30    0.083409\n",
       "2015-11-30   -0.005804\n",
       "2015-12-31   -0.110228\n",
       "2016-01-29   -0.075242\n",
       "2016-02-29   -0.001287\n",
       "2016-03-31    0.127211\n",
       "2016-04-29   -0.139921\n",
       "2016-05-31    0.071773\n",
       "2016-06-30   -0.042660\n",
       "2016-07-29    0.090063\n",
       "2016-08-31    0.023652\n",
       "2016-09-30    0.065504\n",
       "2016-10-31    0.004334\n",
       "2016-11-30   -0.021601\n",
       "2016-12-30    0.047955\n",
       "2017-01-31    0.047746\n",
       "2017-02-28    0.133778\n",
       "2017-03-31    0.048690\n",
       "2017-04-28   -0.000070\n",
       "2017-05-31    0.067808\n",
       "2017-06-30   -0.057214\n",
       "2017-07-31    0.032704\n",
       "2017-08-31    0.106999\n",
       "2017-09-29   -0.060244\n",
       "2017-10-31    0.096808\n",
       "2017-11-30    0.020278\n",
       "2017-12-29   -0.015246\n",
       "2018-01-31    0.017905\n",
       "Freq: BM, Name: Adj Close, Length: 86, dtype: float64"
      ]
     },
     "execution_count": 75,
     "metadata": {},
     "output_type": "execute_result"
    }
   ],
   "source": [
    "m_returns = ret_index.resample('BM', how='last').pct_change()\n",
    "m_returns"
   ]
  },
  {
   "cell_type": "code",
   "execution_count": 76,
   "metadata": {
    "collapsed": false
   },
   "outputs": [
    {
     "name": "stderr",
     "output_type": "stream",
     "text": [
      "e:\\python34\\lib\\site-packages\\ipykernel\\__main__.py:1: FutureWarning: how in .resample() is deprecated\n",
      "the new syntax is .resample(...).prod()\n",
      "  if __name__ == '__main__':\n"
     ]
    },
    {
     "data": {
      "text/plain": [
       "Date\n",
       "2010-12         NaN\n",
       "2011-01    0.051959\n",
       "2011-02    0.040935\n",
       "2011-03   -0.013307\n",
       "2011-04    0.004648\n",
       "2011-05   -0.006569\n",
       "2011-06   -0.034959\n",
       "2011-07    0.163285\n",
       "2011-08   -0.014469\n",
       "2011-09   -0.009121\n",
       "2011-10    0.061523\n",
       "2011-11   -0.055783\n",
       "2011-12    0.059655\n",
       "2012-01    0.127111\n",
       "2012-02    0.188311\n",
       "2012-03    0.105283\n",
       "2012-04   -0.025970\n",
       "2012-05   -0.010702\n",
       "2012-06    0.010853\n",
       "2012-07    0.045822\n",
       "2012-08    0.093877\n",
       "2012-09    0.002796\n",
       "2012-10   -0.107600\n",
       "2012-11   -0.012375\n",
       "2012-12   -0.090743\n",
       "2013-01   -0.144089\n",
       "2013-02   -0.025286\n",
       "2013-03    0.002854\n",
       "2013-04    0.000271\n",
       "2013-05    0.022419\n",
       "             ...   \n",
       "2015-08   -0.066196\n",
       "2015-09   -0.021816\n",
       "2015-10    0.083409\n",
       "2015-11   -0.005804\n",
       "2015-12   -0.110228\n",
       "2016-01   -0.075242\n",
       "2016-02   -0.001287\n",
       "2016-03    0.127211\n",
       "2016-04   -0.139921\n",
       "2016-05    0.071773\n",
       "2016-06   -0.042660\n",
       "2016-07    0.090063\n",
       "2016-08    0.023652\n",
       "2016-09    0.065504\n",
       "2016-10    0.004334\n",
       "2016-11   -0.021601\n",
       "2016-12    0.047955\n",
       "2017-01    0.047746\n",
       "2017-02    0.133778\n",
       "2017-03    0.048690\n",
       "2017-04   -0.000070\n",
       "2017-05    0.067808\n",
       "2017-06   -0.057214\n",
       "2017-07    0.032704\n",
       "2017-08    0.106999\n",
       "2017-09   -0.060244\n",
       "2017-10    0.096808\n",
       "2017-11    0.020278\n",
       "2017-12   -0.015246\n",
       "2018-01    0.017905\n",
       "Freq: M, Name: Adj Close, Length: 86, dtype: float64"
      ]
     },
     "execution_count": 76,
     "metadata": {},
     "output_type": "execute_result"
    }
   ],
   "source": [
    "m_rets = (1 + returns).resample('M', how='prod', kind='period') - 1\n",
    "m_rets"
   ]
  },
  {
   "cell_type": "code",
   "execution_count": 77,
   "metadata": {
    "collapsed": true
   },
   "outputs": [],
   "source": [
    "import random\n",
    "random.seed(0)\n",
    "import string"
   ]
  },
  {
   "cell_type": "code",
   "execution_count": 79,
   "metadata": {
    "collapsed": false
   },
   "outputs": [],
   "source": [
    "N = 1000\n",
    "def rands(n):\n",
    "    choices = string.ascii_uppercase\n",
    "    return ''.join([random.choice(choices) for _ in range(n)])\n",
    "tickers = np.array([rands(5) for _ in range(N)])"
   ]
  },
  {
   "cell_type": "code",
   "execution_count": 80,
   "metadata": {
    "collapsed": false
   },
   "outputs": [
    {
     "data": {
      "text/plain": [
       "array(['MYNBI', 'QPMZJ', 'PLSGQ', 'EJEYD', 'TZIRW', 'ZTEJD', 'XCVKP',\n",
       "       'RDLNK', 'TUGRP', 'OQIBZ', 'RACXM', 'WZVUA', 'TPKHX', 'KWCGS',\n",
       "       'HHZEZ', 'ROCCK', 'QPDJR', 'JWDRK', 'RGZTR', 'SJOCT', 'ZMKSH',\n",
       "       'JFGFB', 'TVIPC', 'CVYEE', 'BCWRV', 'MWQIQ', 'ZHGVS', 'NSIOP',\n",
       "       'VUWZL', 'CKTDP', 'SUKGH', 'AXIDW', 'HLZFK', 'NBDZE', 'WHBSU',\n",
       "       'RTVCA', 'DUGTS', 'DMCLD', 'BTAGF', 'WDPGX', 'ZBVAR', 'NTDIC',\n",
       "       'HCUJL', 'NFBQO', 'BTDWM', 'GILXP', 'SFWVG', 'YBZVF', 'FKQID',\n",
       "       'TOVFA', 'PVNSQ', 'JULMV', 'IERWA', 'OXCKX', 'BRIEH', 'YPLTJ',\n",
       "       'VLSUT', 'EWJMX', 'NUCAT', 'GWKFH', 'HUOMW', 'VSNBM', 'WSNYV',\n",
       "       'WBFOC', 'IWFOQ', 'PRTYA', 'BPKJO', 'BZZNG', 'RUCXE', 'AMVNK',\n",
       "       'AGAWY', 'AVQTD', 'GDTUG', 'JIWFD', 'PMUCA', 'IOZZD', 'IEUQU',\n",
       "       'ULDEI', 'ABBGV', 'IRKLS', 'BXWTU', 'PWUOU', 'NLRFG', 'MSJAE',\n",
       "       'EIKKZ', 'LWCKY', 'TBBIF', 'ESJLM', 'REJDP', 'XHBJF', 'QXCJM',\n",
       "       'KJNDD', 'RPPKZ', 'ZKDPD', 'WPNBJ', 'KXVEF', 'USMZU', 'CCZCG',\n",
       "       'XHBMA', 'DMRQJ', 'OPZSW', 'VGNCL', 'HISYF', 'NGLDC', 'WAQOY',\n",
       "       'VGDPM', 'IGUBZ', 'GTEDG', 'OMLRE', 'DTPES', 'MUVNQ', 'PVKPP',\n",
       "       'UVGRT', 'HAKWX', 'KKBQE', 'ITZEM', 'SJWWZ', 'PCZCQ', 'BCHEB',\n",
       "       'JAYOK', 'FZEUO', 'LQMQQ', 'BSCVZ', 'ZQYTC', 'XNYGJ', 'RTNPZ',\n",
       "       'MTSHZ', 'AVAXF', 'JQSIK', 'CPIJY', 'NMZMB', 'FUEHJ', 'XKBBP',\n",
       "       'NEPTW', 'CVWEZ', 'LNBTO', 'MOBDP', 'YEABT', 'TEUKD', 'WRULG',\n",
       "       'MZYYP', 'DBTWO', 'TUKUD', 'VWTJZ', 'EMZJX', 'VZDQZ', 'GBZMO',\n",
       "       'LYGOL', 'ZUCBB', 'PIAQV', 'SSGHC', 'YUYQW', 'QNQJD', 'ENSNC',\n",
       "       'DNCDN', 'YEXAZ', 'ONVNA', 'PKXIC', 'LCDLW', 'ALLFA', 'HLCTE',\n",
       "       'GAGVV', 'XDXAJ', 'LWATH', 'EFODP', 'LWIEA', 'GLKPJ', 'JRUKF',\n",
       "       'SCDRS', 'JFMEE', 'ZHKQH', 'HYFJL', 'NVBET', 'AMCWC', 'ENJRN',\n",
       "       'XESNJ', 'ULCHO', 'ULUQB', 'MNANX', 'KOGLJ', 'PCFZD', 'IDRTW',\n",
       "       'EZWOM', 'FYNNF', 'HOKQE', 'LOUUC', 'PYGJA', 'WOTOA', 'GJDYU',\n",
       "       'JRTEN', 'WYPCV', 'PYHRY', 'MIUAD', 'IVBAI', 'MQSWM', 'ODXIL',\n",
       "       'JYVGT', 'CBCZI', 'JRKDQ', 'HYFCN', 'JJQES', 'QUGRD', 'NURMX',\n",
       "       'YZIJO', 'LSUEF', 'DWDMM', 'SOERV', 'JLUPX', 'NGPPW', 'QKPUB',\n",
       "       'OJEXP', 'BTGAL', 'PMAQC', 'VCVXV', 'MALBD', 'TAIUW', 'JXHEY',\n",
       "       'SJGDN', 'OWKMF', 'KNUVN', 'EOWEQ', 'KEGFO', 'LZMNZ', 'PMXHZ',\n",
       "       'GOGSW', 'BMBHU', 'CFLBX', 'UVFHT', 'JTCWQ', 'YJYLN', 'OBUWQ',\n",
       "       'VURXN', 'SOPIW', 'PGKIB', 'BBFLA', 'JUAEC', 'ZNVHT', 'MRHOG',\n",
       "       'KTDTC', 'ZKKRO', 'KIAQB', 'GLCGQ', 'LGGIV', 'XXJJQ', 'MIPLW',\n",
       "       'HBJRC', 'AOPXO', 'BZNPO', 'ODCCH', 'DYENG', 'OTCNR', 'YMBFH',\n",
       "       'PHEIL', 'KNDRJ', 'TRZGW', 'JYOQT', 'ORUII', 'HADTZ', 'WDFXN',\n",
       "       'HGJXV', 'AXRQN', 'BDMUI', 'DXSLH', 'VWWRV', 'JHXHC', 'QJVKH',\n",
       "       'LUPJS', 'FEZAR', 'QKLSU', 'AZEME', 'FQCEY', 'GZYPS', 'YWGHX',\n",
       "       'EHYML', 'TSEUP', 'DTAQT', 'LPOJA', 'HRUFV', 'PZXPR', 'KWCIE',\n",
       "       'TMWGK', 'ZJMBG', 'BKXXH', 'KOVXV', 'VHILV', 'FJALS', 'RBXUE',\n",
       "       'LAPUB', 'AHBAH', 'UKCBL', 'VNEGO', 'NELJF', 'UKXZX', 'NMANI',\n",
       "       'RRZXV', 'WOYBS', 'DNMFA', 'QETVQ', 'XWECK', 'HFHAZ', 'FXZVR',\n",
       "       'FWCNT', 'DTUOW', 'ETTBI', 'KZXXM', 'AUBPC', 'LJVEO', 'HQLFX',\n",
       "       'YMKIZ', 'PMAJQ', 'JRPBY', 'RSRIV', 'BOMXD', 'MLPBA', 'IXBIV',\n",
       "       'VSWYJ', 'VYGYQ', 'QKMIG', 'DSKZH', 'SVXRV', 'LFEKX', 'ASBSE',\n",
       "       'LLJUJ', 'KPZMT', 'NFAZE', 'SBOEK', 'AXPVV', 'YIXTG', 'CRNIF',\n",
       "       'QFCVU', 'FSDQU', 'ZRTMY', 'NIJJA', 'NYWII', 'RQRKK', 'GWZNZ',\n",
       "       'EAYQE', 'ZVWZS', 'MLOBR', 'NUTZZ', 'YHALQ', 'FVGUL', 'UWPAX',\n",
       "       'XHSHI', 'FYNCS', 'OHXWO', 'QZZWD', 'GFOCN', 'UMIIN', 'YYLTK',\n",
       "       'CJAPA', 'YIGYM', 'MNYUU', 'VMWBS', 'OLSES', 'WIKAM', 'PQEBC',\n",
       "       'SLLAC', 'GWDVR', 'PBKAK', 'MEYUI', 'NVETE', 'MJQBF', 'EEPWU',\n",
       "       'WYXBX', 'QBRWX', 'WUMFL', 'ZSCCR', 'FIGZI', 'KWWIZ', 'IQOEY',\n",
       "       'OREBU', 'SFUQB', 'YKCGU', 'ZOTHZ', 'OQFWK', 'UEPYR', 'BRCQK',\n",
       "       'AYCDN', 'TLSOK', 'MQLUD', 'EKAFX', 'EAKTG', 'BNUBW', 'JZMBT',\n",
       "       'YZWFL', 'CNBOL', 'TTYIV', 'JSZON', 'FAOZI', 'GMCLD', 'DALAF',\n",
       "       'MTWUA', 'KOZRX', 'WPPCB', 'RMZZI', 'AUQDC', 'KLDPB', 'EQUZJ',\n",
       "       'BAMKF', 'RWEFF', 'YFUVH', 'TKAPU', 'VMBHH', 'UJKFH', 'LHFNO',\n",
       "       'LSEMS', 'YAFSA', 'VMWZF', 'EAAKQ', 'ABBYD', 'STEYE', 'VZMZA',\n",
       "       'NNSVK', 'WHELQ', 'GRMCE', 'NSVLD', 'NNHPM', 'HMHUP', 'MSCII',\n",
       "       'QLRAT', 'TYPHI', 'BTKZM', 'UDRBE', 'WMAYN', 'XMNDW', 'OTOFF',\n",
       "       'KPNFS', 'JYQDL', 'LEULY', 'PUQYB', 'GIFXS', 'KJMUB', 'JRNBV',\n",
       "       'NIMXG', 'LEEDT', 'LFANS', 'MOCUW', 'WVCYN', 'RXREF', 'EGFHA',\n",
       "       'QEPLT', 'XJWZK', 'VDZNY', 'IFKUQ', 'KRWEM', 'XXRJH', 'MLMPQ',\n",
       "       'JNNDV', 'EEAST', 'UWQDW', 'YUWGT', 'UTQDI', 'WXTFM', 'CZBAD',\n",
       "       'LXPKD', 'VOLSW', 'IVPZY', 'HFRRC', 'YQFAU', 'FQNTV', 'GOWVM',\n",
       "       'IASEM', 'FOSBM', 'ZCUSM', 'KHQOB', 'PTDIQ', 'PRUMP', 'IFHRL',\n",
       "       'FJTEO', 'CCPMS', 'NRCIP', 'HDJEL', 'ZDEVB', 'VESRG', 'ABMRW',\n",
       "       'YTPWW', 'DPRLY', 'KDVAH', 'HPJIH', 'APLQK', 'CCJSN', 'HXLMY',\n",
       "       'EHJGX', 'YPVZL', 'JMTEY', 'DMLQP', 'HUWLU', 'LNILM', 'YYWJD',\n",
       "       'PJDOE', 'LHXFK', 'PHDVM', 'MOQOS', 'THVMQ', 'JPHKQ', 'VACPK',\n",
       "       'MHNBS', 'YBNCI', 'GXKFD', 'FZWLA', 'HBAMR', 'AEDTT', 'GCXOG',\n",
       "       'AQTNC', 'RFHHN', 'MPZAN', 'GMYBT', 'IASLW', 'LKVOU', 'ETQCI',\n",
       "       'DWDIA', 'WETYV', 'EMGSV', 'KGNQQ', 'DRDWP', 'DQOPF', 'ORKEN',\n",
       "       'IMCSQ', 'KHOHL', 'PYNAO', 'XARMY', 'YOHNH', 'IPPEH', 'OJLUP',\n",
       "       'TEQVC', 'GJQUV', 'DBEKB', 'KTZFY', 'OMVGN', 'PGFMB', 'ZZYKY',\n",
       "       'VQGXK', 'FQRWT', 'SNEUW', 'TPVSG', 'TOBHP', 'TKRXG', 'ABBEH',\n",
       "       'OVTHV', 'VDYQN', 'UUJVK', 'PVGFL', 'RLWOM', 'OVKOC', 'EHYDY',\n",
       "       'EMOWR', 'GLWBA', 'MGCNS', 'SZNRG', 'UAVEQ', 'UPJMR', 'RCCTX',\n",
       "       'PYAGN', 'TYLJC', 'XAYZH', 'TASQL', 'EOIDS', 'OIHMM', 'XQKHS',\n",
       "       'ICBEK', 'USSPC', 'QPNKM', 'XADNT', 'VEYEA', 'DWNHB', 'UIIMD',\n",
       "       'LJLTZ', 'UGXRR', 'BKQRA', 'FPAUI', 'KELDT', 'RNZYC', 'ISDQC',\n",
       "       'SEPBQ', 'ZHLDR', 'WGFWV', 'HMGTW', 'XOLFI', 'XLRGG', 'OKEIR',\n",
       "       'VYYAC', 'VKJWZ', 'KBCTA', 'JZDFW', 'IGQRL', 'OCNQR', 'NDCSO',\n",
       "       'KFJHU', 'NVWJB', 'AAUIC', 'VKKRU', 'JBZWH', 'WQEIT', 'BZMNI',\n",
       "       'SHIKZ', 'RPOWD', 'NLFQB', 'HWZPM', 'AHCJD', 'FEOAY', 'LQNDQ',\n",
       "       'HPJIM', 'NPWBF', 'WQLGH', 'EHZJZ', 'EFRIR', 'AFHXN', 'WFHYR',\n",
       "       'ESVFX', 'HQYJZ', 'ZWXAX', 'OZGBN', 'FMQMG', 'MRQPD', 'ECRAC',\n",
       "       'AXHXM', 'OVINL', 'VMIXC', 'YFSHX', 'GBYBQ', 'ZCWOH', 'OWYYV',\n",
       "       'ETUQJ', 'ATELV', 'LLJQU', 'WIEAP', 'ZXGTM', 'KPJOE', 'PJZWK',\n",
       "       'LUTMM', 'SMWQJ', 'VYSHG', 'NGIQF', 'QEZTQ', 'YRYQU', 'PKINJ',\n",
       "       'OUQBZ', 'XGIOW', 'CAGTD', 'IZAGF', 'TFVLT', 'ZIAVV', 'AATFJ',\n",
       "       'HMPXL', 'LCSNZ', 'DWAYF', 'ATRIL', 'XGMGK', 'FZFPV', 'ETSQN',\n",
       "       'SUHAB', 'NTBUU', 'UEQCN', 'JKUUT', 'GWBKE', 'KVXIP', 'PTKIU',\n",
       "       'COZYF', 'DQIRW', 'MTONV', 'FTNYE', 'VVYZD', 'SYDFX', 'PJVXD',\n",
       "       'VYNII', 'ZDULQ', 'RZCAB', 'TAYED', 'NMZPA', 'KUECW', 'MUSXH',\n",
       "       'BGNAB', 'TZMER', 'XWJNM', 'RBXOR', 'EREUG', 'SFCSP', 'JIIGM',\n",
       "       'VAUBQ', 'YYCAU', 'JEYEY', 'QEDKA', 'XKEKS', 'YCCLG', 'IOKVP',\n",
       "       'PRQCC', 'KOMYM', 'RPRNQ', 'CHEUM', 'QKECE', 'EBMUS', 'DVCQI',\n",
       "       'SJLVX', 'PMSKX', 'VTOQL', 'HYQBX', 'MZLKZ', 'QAHSC', 'PDLNY',\n",
       "       'THRAQ', 'QDBSL', 'BLFKI', 'PPYNA', 'ZUYHU', 'UPXXL', 'VZZXF',\n",
       "       'BYXPQ', 'VFMWJ', 'VSPGA', 'WOTTV', 'FTOKS', 'KNSYU', 'EQNMH',\n",
       "       'LMJHG', 'IHRSL', 'OHTKT', 'UEKHE', 'YIRFR', 'WWTDO', 'PGWFT',\n",
       "       'LTHWZ', 'CRPGJ', 'MIQGL', 'NKXAB', 'GGTFR', 'OCIQJ', 'WPNKV',\n",
       "       'XWWMB', 'DBKFY', 'ITXRO', 'JRNPL', 'HVCXC', 'ZUCQA', 'VSQKX',\n",
       "       'TDSHA', 'BZDXJ', 'CSMWE', 'YSTQG', 'IJFFS', 'HEEHI', 'PZJEX',\n",
       "       'TIGCE', 'VNFGS', 'ALRVP', 'VEYXI', 'CXWTW', 'IZTXH', 'AEGXS',\n",
       "       'VANEE', 'PRBQK', 'HVFOK', 'VOHUU', 'XIVWG', 'DLPIL', 'RSJGJ',\n",
       "       'RMCFM', 'DSUDQ', 'EWOEN', 'IXRGY', 'ZFXCI', 'OKMQB', 'LMXXM',\n",
       "       'REYWW', 'RSEUB', 'JTOQY', 'SNGOG', 'MCDRM', 'DQVOX', 'UFBGH',\n",
       "       'HDTMN', 'CRGQG', 'GPCGD', 'QETGR', 'SQUTN', 'TMUIV', 'ZPUUT',\n",
       "       'ZALLY', 'ZGWUB', 'GOGQV', 'GAEHO', 'PCTIU', 'JMKXX', 'VWJVC',\n",
       "       'TDPLT', 'TUCHE', 'NHAPJ', 'EQULX', 'VEDQK', 'KVXCL', 'ZGGJQ',\n",
       "       'WNUXX', 'MMBEO', 'CJUVE', 'QGTPL', 'ESESN', 'IXGDF', 'EORNF',\n",
       "       'BJYPS', 'CVLUD', 'DPHQB', 'AWVZS', 'COIXS', 'IWRZM', 'FHUDV',\n",
       "       'SXYQF', 'PUUHA', 'HEWTV', 'YEUEY', 'ZSTFC', 'DIDIT', 'OSYIS',\n",
       "       'NBWCE', 'OBLKI', 'UNMAJ', 'UHGYC', 'SXEHQ', 'GOKAY', 'INSQR',\n",
       "       'EWKWS', 'URMGJ', 'DOUUI', 'HZUIY', 'JCLEO', 'AMUOB', 'UYYJQ',\n",
       "       'TYNOT', 'SXQGF', 'AIDMW', 'IGPPI', 'QMETP', 'IFWAG', 'KIWWD',\n",
       "       'VANJK', 'TXGKN', 'YEUDH', 'LYXPO', 'FVLNN', 'NLSDC', 'RZOED',\n",
       "       'AZQWM', 'UPHMU', 'XDNBV', 'JTFJI', 'QDRVV', 'KAEAC', 'KYKOG',\n",
       "       'HLVSO', 'IRFOM', 'ADADK', 'XGJRD', 'QYJCD', 'RTJXB', 'HDVFO',\n",
       "       'FFOIW', 'FOWSA', 'RMADD', 'JCUYM', 'GIXMH', 'OUTQR', 'LFNUZ',\n",
       "       'ASNTH', 'JLQKP', 'UYXOX', 'WILIY', 'FFHOK', 'UALPT', 'ZWJVH',\n",
       "       'ADOXQ', 'FGMWT', 'KREBP', 'NOZOL', 'AGSGC', 'PEVCX', 'QWVRM',\n",
       "       'TIGCN', 'ARPWX', 'KXAGT', 'JYYZN', 'OWQWJ', 'CBCLM', 'UNMZU',\n",
       "       'WYUYH', 'JPMRA', 'UNUJV', 'PEMVN', 'MWYSX', 'TJPRL', 'JNSUY',\n",
       "       'FLBNO', 'OJCVH', 'KHMAT', 'KEFPC', 'YDFTB', 'HUFAU', 'QVNVN',\n",
       "       'FJMOJ', 'RBFPF', 'DVDPX', 'JXZJJ', 'MBSIK', 'YOCBY', 'UWJHO',\n",
       "       'UJRGM', 'CNBBZ', 'CLAJJ', 'BABTB', 'ETFPU', 'CSEAX', 'REZDC',\n",
       "       'WCTYV', 'DGDPN', 'CDPWO', 'QXFRD', 'ELXNQ', 'ECUQB', 'XRHDX',\n",
       "       'ZMLQK', 'RWSRM', 'JHSWC', 'ETMYL', 'XJLQL', 'AAAEI', 'XVWGU',\n",
       "       'EFDPX', 'PVEII', 'EBFVL', 'XKGUD', 'QZPEU', 'IKGUD', 'TVWHL',\n",
       "       'ZMYDI', 'YMRLB', 'UKHMB', 'YNRIY', 'ZFIBX', 'IXCKU', 'NAYVI',\n",
       "       'HUYWF', 'ILQUD', 'FPGST', 'SCNJW', 'VBIAA', 'ZTFKF', 'MHSRG',\n",
       "       'BURYG', 'ORVOS', 'TKLLD', 'YZANL', 'FPHXV', 'XUZXX', 'UMYTA',\n",
       "       'VGTXP', 'NYMFE', 'VNMOX', 'XUXGI', 'CWFSA', 'JXFDE', 'IFMIQ',\n",
       "       'UNKRX', 'NPODI', 'TKIIX', 'JMTQA', 'PUQQG', 'NIXUY', 'NXBAN',\n",
       "       'RCZIW', 'ZAAPV', 'ZMRLR', 'PQORX', 'XWPSF', 'ZSYAT', 'LGJNC',\n",
       "       'HDFZT', 'OUEPK', 'OWEPZ', 'IPKWQ', 'XZHYB', 'LQIMR', 'UTDJE',\n",
       "       'QEECK', 'GBAPP', 'CSQBE', 'UOSES', 'ICJLE', 'OLBKD', 'DTVDJ',\n",
       "       'VJSLF', 'YAVYP', 'MMUGC', 'NIPNV', 'PMENZ', 'GYNUY', 'GICZE',\n",
       "       'OKLJZ', 'ZOKHF', 'OEWKZ', 'HPEDR', 'STOXK', 'FCVKF'],\n",
       "      dtype='<U5')"
      ]
     },
     "execution_count": 80,
     "metadata": {},
     "output_type": "execute_result"
    }
   ],
   "source": [
    "tickers"
   ]
  },
  {
   "cell_type": "code",
   "execution_count": 81,
   "metadata": {
    "collapsed": false
   },
   "outputs": [
    {
     "data": {
      "text/html": [
       "<div>\n",
       "<style>\n",
       "    .dataframe thead tr:only-child th {\n",
       "        text-align: right;\n",
       "    }\n",
       "\n",
       "    .dataframe thead th {\n",
       "        text-align: left;\n",
       "    }\n",
       "\n",
       "    .dataframe tbody tr th {\n",
       "        vertical-align: top;\n",
       "    }\n",
       "</style>\n",
       "<table border=\"1\" class=\"dataframe\">\n",
       "  <thead>\n",
       "    <tr style=\"text-align: right;\">\n",
       "      <th></th>\n",
       "      <th>Momentum</th>\n",
       "      <th>ShortInterest</th>\n",
       "      <th>Value</th>\n",
       "    </tr>\n",
       "  </thead>\n",
       "  <tbody>\n",
       "    <tr>\n",
       "      <th>MYNBI</th>\n",
       "      <td>0.034373</td>\n",
       "      <td>-0.011814</td>\n",
       "      <td>0.091458</td>\n",
       "    </tr>\n",
       "    <tr>\n",
       "      <th>QPMZJ</th>\n",
       "      <td>0.040667</td>\n",
       "      <td>-0.021056</td>\n",
       "      <td>0.077152</td>\n",
       "    </tr>\n",
       "    <tr>\n",
       "      <th>PLSGQ</th>\n",
       "      <td>0.033631</td>\n",
       "      <td>-0.010332</td>\n",
       "      <td>0.079056</td>\n",
       "    </tr>\n",
       "    <tr>\n",
       "      <th>EJEYD</th>\n",
       "      <td>0.029132</td>\n",
       "      <td>-0.017466</td>\n",
       "      <td>0.081897</td>\n",
       "    </tr>\n",
       "    <tr>\n",
       "      <th>TZIRW</th>\n",
       "      <td>0.032278</td>\n",
       "      <td>-0.026017</td>\n",
       "      <td>0.073981</td>\n",
       "    </tr>\n",
       "    <tr>\n",
       "      <th>ZTEJD</th>\n",
       "      <td>0.030567</td>\n",
       "      <td>-0.025788</td>\n",
       "      <td>0.079194</td>\n",
       "    </tr>\n",
       "    <tr>\n",
       "      <th>XCVKP</th>\n",
       "      <td>0.038866</td>\n",
       "      <td>-0.025168</td>\n",
       "      <td>0.077526</td>\n",
       "    </tr>\n",
       "    <tr>\n",
       "      <th>RDLNK</th>\n",
       "      <td>0.025154</td>\n",
       "      <td>-0.017656</td>\n",
       "      <td>0.083855</td>\n",
       "    </tr>\n",
       "    <tr>\n",
       "      <th>TUGRP</th>\n",
       "      <td>0.034398</td>\n",
       "      <td>-0.016836</td>\n",
       "      <td>0.085232</td>\n",
       "    </tr>\n",
       "    <tr>\n",
       "      <th>OQIBZ</th>\n",
       "      <td>0.028200</td>\n",
       "      <td>-0.024085</td>\n",
       "      <td>0.082921</td>\n",
       "    </tr>\n",
       "    <tr>\n",
       "      <th>RACXM</th>\n",
       "      <td>0.025687</td>\n",
       "      <td>-0.022236</td>\n",
       "      <td>0.079325</td>\n",
       "    </tr>\n",
       "    <tr>\n",
       "      <th>WZVUA</th>\n",
       "      <td>0.027399</td>\n",
       "      <td>-0.013852</td>\n",
       "      <td>0.069883</td>\n",
       "    </tr>\n",
       "    <tr>\n",
       "      <th>TPKHX</th>\n",
       "      <td>0.032525</td>\n",
       "      <td>-0.016702</td>\n",
       "      <td>0.080291</td>\n",
       "    </tr>\n",
       "    <tr>\n",
       "      <th>KWCGS</th>\n",
       "      <td>0.022468</td>\n",
       "      <td>-0.020543</td>\n",
       "      <td>0.071710</td>\n",
       "    </tr>\n",
       "    <tr>\n",
       "      <th>HHZEZ</th>\n",
       "      <td>0.031391</td>\n",
       "      <td>-0.018988</td>\n",
       "      <td>0.077690</td>\n",
       "    </tr>\n",
       "    <tr>\n",
       "      <th>ROCCK</th>\n",
       "      <td>0.016398</td>\n",
       "      <td>-0.026396</td>\n",
       "      <td>0.080113</td>\n",
       "    </tr>\n",
       "    <tr>\n",
       "      <th>QPDJR</th>\n",
       "      <td>0.029522</td>\n",
       "      <td>-0.020461</td>\n",
       "      <td>0.087741</td>\n",
       "    </tr>\n",
       "    <tr>\n",
       "      <th>JWDRK</th>\n",
       "      <td>0.025309</td>\n",
       "      <td>-0.022991</td>\n",
       "      <td>0.076116</td>\n",
       "    </tr>\n",
       "    <tr>\n",
       "      <th>RGZTR</th>\n",
       "      <td>0.036096</td>\n",
       "      <td>-0.019097</td>\n",
       "      <td>0.085099</td>\n",
       "    </tr>\n",
       "    <tr>\n",
       "      <th>SJOCT</th>\n",
       "      <td>0.027869</td>\n",
       "      <td>-0.016555</td>\n",
       "      <td>0.079620</td>\n",
       "    </tr>\n",
       "    <tr>\n",
       "      <th>ZMKSH</th>\n",
       "      <td>0.026437</td>\n",
       "      <td>-0.016719</td>\n",
       "      <td>0.075604</td>\n",
       "    </tr>\n",
       "    <tr>\n",
       "      <th>JFGFB</th>\n",
       "      <td>0.029267</td>\n",
       "      <td>-0.030208</td>\n",
       "      <td>0.076741</td>\n",
       "    </tr>\n",
       "    <tr>\n",
       "      <th>TVIPC</th>\n",
       "      <td>0.027195</td>\n",
       "      <td>-0.014710</td>\n",
       "      <td>0.078618</td>\n",
       "    </tr>\n",
       "    <tr>\n",
       "      <th>CVYEE</th>\n",
       "      <td>0.030713</td>\n",
       "      <td>-0.017791</td>\n",
       "      <td>0.074820</td>\n",
       "    </tr>\n",
       "    <tr>\n",
       "      <th>BCWRV</th>\n",
       "      <td>0.036925</td>\n",
       "      <td>-0.027028</td>\n",
       "      <td>0.076770</td>\n",
       "    </tr>\n",
       "    <tr>\n",
       "      <th>MWQIQ</th>\n",
       "      <td>0.028418</td>\n",
       "      <td>-0.022749</td>\n",
       "      <td>0.074379</td>\n",
       "    </tr>\n",
       "    <tr>\n",
       "      <th>ZHGVS</th>\n",
       "      <td>0.031662</td>\n",
       "      <td>-0.016885</td>\n",
       "      <td>0.074160</td>\n",
       "    </tr>\n",
       "    <tr>\n",
       "      <th>NSIOP</th>\n",
       "      <td>0.030407</td>\n",
       "      <td>-0.024311</td>\n",
       "      <td>0.075379</td>\n",
       "    </tr>\n",
       "    <tr>\n",
       "      <th>VUWZL</th>\n",
       "      <td>0.021013</td>\n",
       "      <td>-0.019063</td>\n",
       "      <td>0.080718</td>\n",
       "    </tr>\n",
       "    <tr>\n",
       "      <th>CKTDP</th>\n",
       "      <td>0.027033</td>\n",
       "      <td>-0.020753</td>\n",
       "      <td>0.074225</td>\n",
       "    </tr>\n",
       "    <tr>\n",
       "      <th>...</th>\n",
       "      <td>...</td>\n",
       "      <td>...</td>\n",
       "      <td>...</td>\n",
       "    </tr>\n",
       "    <tr>\n",
       "      <th>CCPMS</th>\n",
       "      <td>0.026788</td>\n",
       "      <td>-0.025707</td>\n",
       "      <td>0.088397</td>\n",
       "    </tr>\n",
       "    <tr>\n",
       "      <th>NRCIP</th>\n",
       "      <td>0.032189</td>\n",
       "      <td>-0.019783</td>\n",
       "      <td>0.079217</td>\n",
       "    </tr>\n",
       "    <tr>\n",
       "      <th>HDJEL</th>\n",
       "      <td>0.040704</td>\n",
       "      <td>-0.034170</td>\n",
       "      <td>0.086615</td>\n",
       "    </tr>\n",
       "    <tr>\n",
       "      <th>ZDEVB</th>\n",
       "      <td>0.030321</td>\n",
       "      <td>-0.016034</td>\n",
       "      <td>0.086979</td>\n",
       "    </tr>\n",
       "    <tr>\n",
       "      <th>VESRG</th>\n",
       "      <td>0.028384</td>\n",
       "      <td>-0.010320</td>\n",
       "      <td>0.076991</td>\n",
       "    </tr>\n",
       "    <tr>\n",
       "      <th>ABMRW</th>\n",
       "      <td>0.032196</td>\n",
       "      <td>-0.018717</td>\n",
       "      <td>0.078940</td>\n",
       "    </tr>\n",
       "    <tr>\n",
       "      <th>YTPWW</th>\n",
       "      <td>0.025065</td>\n",
       "      <td>-0.024734</td>\n",
       "      <td>0.074354</td>\n",
       "    </tr>\n",
       "    <tr>\n",
       "      <th>DPRLY</th>\n",
       "      <td>0.031592</td>\n",
       "      <td>-0.014233</td>\n",
       "      <td>0.072112</td>\n",
       "    </tr>\n",
       "    <tr>\n",
       "      <th>KDVAH</th>\n",
       "      <td>0.033968</td>\n",
       "      <td>-0.030441</td>\n",
       "      <td>0.082108</td>\n",
       "    </tr>\n",
       "    <tr>\n",
       "      <th>HPJIH</th>\n",
       "      <td>0.024255</td>\n",
       "      <td>-0.022226</td>\n",
       "      <td>0.085875</td>\n",
       "    </tr>\n",
       "    <tr>\n",
       "      <th>APLQK</th>\n",
       "      <td>0.033364</td>\n",
       "      <td>-0.019486</td>\n",
       "      <td>0.085863</td>\n",
       "    </tr>\n",
       "    <tr>\n",
       "      <th>CCJSN</th>\n",
       "      <td>0.031544</td>\n",
       "      <td>-0.014235</td>\n",
       "      <td>0.086746</td>\n",
       "    </tr>\n",
       "    <tr>\n",
       "      <th>HXLMY</th>\n",
       "      <td>0.033375</td>\n",
       "      <td>-0.018909</td>\n",
       "      <td>0.075039</td>\n",
       "    </tr>\n",
       "    <tr>\n",
       "      <th>EHJGX</th>\n",
       "      <td>0.039745</td>\n",
       "      <td>-0.020598</td>\n",
       "      <td>0.081268</td>\n",
       "    </tr>\n",
       "    <tr>\n",
       "      <th>YPVZL</th>\n",
       "      <td>0.028775</td>\n",
       "      <td>-0.029309</td>\n",
       "      <td>0.075578</td>\n",
       "    </tr>\n",
       "    <tr>\n",
       "      <th>JMTEY</th>\n",
       "      <td>0.034539</td>\n",
       "      <td>-0.027545</td>\n",
       "      <td>0.080090</td>\n",
       "    </tr>\n",
       "    <tr>\n",
       "      <th>DMLQP</th>\n",
       "      <td>0.031377</td>\n",
       "      <td>-0.019961</td>\n",
       "      <td>0.092842</td>\n",
       "    </tr>\n",
       "    <tr>\n",
       "      <th>HUWLU</th>\n",
       "      <td>0.019235</td>\n",
       "      <td>-0.012702</td>\n",
       "      <td>0.084625</td>\n",
       "    </tr>\n",
       "    <tr>\n",
       "      <th>LNILM</th>\n",
       "      <td>0.029828</td>\n",
       "      <td>-0.024501</td>\n",
       "      <td>0.088966</td>\n",
       "    </tr>\n",
       "    <tr>\n",
       "      <th>YYWJD</th>\n",
       "      <td>0.030523</td>\n",
       "      <td>-0.019930</td>\n",
       "      <td>0.074366</td>\n",
       "    </tr>\n",
       "    <tr>\n",
       "      <th>PJDOE</th>\n",
       "      <td>0.025875</td>\n",
       "      <td>-0.017820</td>\n",
       "      <td>0.080950</td>\n",
       "    </tr>\n",
       "    <tr>\n",
       "      <th>LHXFK</th>\n",
       "      <td>0.028739</td>\n",
       "      <td>-0.016047</td>\n",
       "      <td>0.088148</td>\n",
       "    </tr>\n",
       "    <tr>\n",
       "      <th>PHDVM</th>\n",
       "      <td>0.033926</td>\n",
       "      <td>-0.013235</td>\n",
       "      <td>0.086007</td>\n",
       "    </tr>\n",
       "    <tr>\n",
       "      <th>MOQOS</th>\n",
       "      <td>0.020794</td>\n",
       "      <td>-0.011030</td>\n",
       "      <td>0.082216</td>\n",
       "    </tr>\n",
       "    <tr>\n",
       "      <th>THVMQ</th>\n",
       "      <td>0.027001</td>\n",
       "      <td>-0.020098</td>\n",
       "      <td>0.084863</td>\n",
       "    </tr>\n",
       "    <tr>\n",
       "      <th>JPHKQ</th>\n",
       "      <td>0.027103</td>\n",
       "      <td>-0.015950</td>\n",
       "      <td>0.082356</td>\n",
       "    </tr>\n",
       "    <tr>\n",
       "      <th>VACPK</th>\n",
       "      <td>0.033962</td>\n",
       "      <td>-0.020247</td>\n",
       "      <td>0.086270</td>\n",
       "    </tr>\n",
       "    <tr>\n",
       "      <th>MHNBS</th>\n",
       "      <td>0.034475</td>\n",
       "      <td>-0.014597</td>\n",
       "      <td>0.078991</td>\n",
       "    </tr>\n",
       "    <tr>\n",
       "      <th>YBNCI</th>\n",
       "      <td>0.024062</td>\n",
       "      <td>-0.021281</td>\n",
       "      <td>0.081283</td>\n",
       "    </tr>\n",
       "    <tr>\n",
       "      <th>GXKFD</th>\n",
       "      <td>0.030669</td>\n",
       "      <td>-0.033165</td>\n",
       "      <td>0.072471</td>\n",
       "    </tr>\n",
       "  </tbody>\n",
       "</table>\n",
       "<p>500 rows × 3 columns</p>\n",
       "</div>"
      ],
      "text/plain": [
       "       Momentum  ShortInterest     Value\n",
       "MYNBI  0.034373      -0.011814  0.091458\n",
       "QPMZJ  0.040667      -0.021056  0.077152\n",
       "PLSGQ  0.033631      -0.010332  0.079056\n",
       "EJEYD  0.029132      -0.017466  0.081897\n",
       "TZIRW  0.032278      -0.026017  0.073981\n",
       "ZTEJD  0.030567      -0.025788  0.079194\n",
       "XCVKP  0.038866      -0.025168  0.077526\n",
       "RDLNK  0.025154      -0.017656  0.083855\n",
       "TUGRP  0.034398      -0.016836  0.085232\n",
       "OQIBZ  0.028200      -0.024085  0.082921\n",
       "RACXM  0.025687      -0.022236  0.079325\n",
       "WZVUA  0.027399      -0.013852  0.069883\n",
       "TPKHX  0.032525      -0.016702  0.080291\n",
       "KWCGS  0.022468      -0.020543  0.071710\n",
       "HHZEZ  0.031391      -0.018988  0.077690\n",
       "ROCCK  0.016398      -0.026396  0.080113\n",
       "QPDJR  0.029522      -0.020461  0.087741\n",
       "JWDRK  0.025309      -0.022991  0.076116\n",
       "RGZTR  0.036096      -0.019097  0.085099\n",
       "SJOCT  0.027869      -0.016555  0.079620\n",
       "ZMKSH  0.026437      -0.016719  0.075604\n",
       "JFGFB  0.029267      -0.030208  0.076741\n",
       "TVIPC  0.027195      -0.014710  0.078618\n",
       "CVYEE  0.030713      -0.017791  0.074820\n",
       "BCWRV  0.036925      -0.027028  0.076770\n",
       "MWQIQ  0.028418      -0.022749  0.074379\n",
       "ZHGVS  0.031662      -0.016885  0.074160\n",
       "NSIOP  0.030407      -0.024311  0.075379\n",
       "VUWZL  0.021013      -0.019063  0.080718\n",
       "CKTDP  0.027033      -0.020753  0.074225\n",
       "...         ...            ...       ...\n",
       "CCPMS  0.026788      -0.025707  0.088397\n",
       "NRCIP  0.032189      -0.019783  0.079217\n",
       "HDJEL  0.040704      -0.034170  0.086615\n",
       "ZDEVB  0.030321      -0.016034  0.086979\n",
       "VESRG  0.028384      -0.010320  0.076991\n",
       "ABMRW  0.032196      -0.018717  0.078940\n",
       "YTPWW  0.025065      -0.024734  0.074354\n",
       "DPRLY  0.031592      -0.014233  0.072112\n",
       "KDVAH  0.033968      -0.030441  0.082108\n",
       "HPJIH  0.024255      -0.022226  0.085875\n",
       "APLQK  0.033364      -0.019486  0.085863\n",
       "CCJSN  0.031544      -0.014235  0.086746\n",
       "HXLMY  0.033375      -0.018909  0.075039\n",
       "EHJGX  0.039745      -0.020598  0.081268\n",
       "YPVZL  0.028775      -0.029309  0.075578\n",
       "JMTEY  0.034539      -0.027545  0.080090\n",
       "DMLQP  0.031377      -0.019961  0.092842\n",
       "HUWLU  0.019235      -0.012702  0.084625\n",
       "LNILM  0.029828      -0.024501  0.088966\n",
       "YYWJD  0.030523      -0.019930  0.074366\n",
       "PJDOE  0.025875      -0.017820  0.080950\n",
       "LHXFK  0.028739      -0.016047  0.088148\n",
       "PHDVM  0.033926      -0.013235  0.086007\n",
       "MOQOS  0.020794      -0.011030  0.082216\n",
       "THVMQ  0.027001      -0.020098  0.084863\n",
       "JPHKQ  0.027103      -0.015950  0.082356\n",
       "VACPK  0.033962      -0.020247  0.086270\n",
       "MHNBS  0.034475      -0.014597  0.078991\n",
       "YBNCI  0.024062      -0.021281  0.081283\n",
       "GXKFD  0.030669      -0.033165  0.072471\n",
       "\n",
       "[500 rows x 3 columns]"
      ]
     },
     "execution_count": 81,
     "metadata": {},
     "output_type": "execute_result"
    }
   ],
   "source": [
    "M = 500\n",
    "df = DataFrame({'Momentum': np.random.randn(M) / 200 + 0.03,\n",
    "                'Value': np.random.randn(M) / 200 + 0.08,\n",
    "                'ShortInterest': np.random.randn(M) / 200 - 0.02},\n",
    "               index=tickers[:M])\n",
    "df"
   ]
  },
  {
   "cell_type": "code",
   "execution_count": 82,
   "metadata": {
    "collapsed": false
   },
   "outputs": [
    {
     "data": {
      "text/plain": [
       "array(['FINANCIAL', 'TECH'],\n",
       "      dtype='<U9')"
      ]
     },
     "execution_count": 82,
     "metadata": {},
     "output_type": "execute_result"
    }
   ],
   "source": [
    "ind_names = np.array(['FINANCIAL', 'TECH'])\n",
    "ind_names"
   ]
  },
  {
   "cell_type": "code",
   "execution_count": 83,
   "metadata": {
    "collapsed": false
   },
   "outputs": [
    {
     "data": {
      "text/plain": [
       "array([1, 1, 1, 0, 1, 0, 0, 0, 0, 0, 1, 0, 1, 0, 1, 1, 0, 0, 1, 1, 0, 0, 1,\n",
       "       0, 0, 0, 1, 1, 0, 0, 0, 0, 1, 0, 1, 0, 0, 0, 1, 1, 1, 0, 0, 1, 0, 0,\n",
       "       1, 1, 1, 0, 1, 1, 0, 0, 0, 0, 0, 0, 0, 1, 1, 0, 1, 1, 0, 0, 1, 0, 1,\n",
       "       0, 0, 1, 1, 0, 1, 1, 1, 1, 1, 0, 0, 1, 0, 0, 0, 1, 0, 1, 1, 1, 0, 0,\n",
       "       1, 1, 0, 1, 0, 0, 1, 1, 0, 1, 0, 1, 0, 0, 1, 0, 0, 0, 0, 1, 1, 1, 1,\n",
       "       0, 1, 0, 0, 0, 1, 1, 0, 1, 1, 0, 1, 0, 0, 0, 0, 1, 0, 0, 0, 0, 0, 0,\n",
       "       1, 1, 0, 0, 0, 1, 0, 0, 0, 0, 0, 1, 0, 0, 1, 0, 1, 1, 0, 0, 0, 1, 1,\n",
       "       0, 1, 1, 1, 1, 0, 0, 1, 0, 0, 0, 0, 1, 0, 0, 0, 0, 1, 0, 1, 0, 0, 0,\n",
       "       1, 0, 0, 1, 1, 1, 0, 0, 0, 0, 1, 1, 0, 1, 0, 1, 0, 0, 0, 0, 1, 0, 0,\n",
       "       1, 0, 0, 0, 1, 0, 1, 1, 0, 0, 0, 0, 0, 1, 1, 0, 1, 0, 1, 0, 0, 0, 0,\n",
       "       1, 1, 0, 1, 1, 1, 1, 0, 1, 0, 0, 1, 0, 1, 0, 0, 0, 0, 1, 1, 1, 0, 1,\n",
       "       0, 0, 1, 0, 1, 0, 0, 0, 0, 1, 0, 1, 0, 1, 0, 1, 0, 1, 0, 0, 1, 0, 1,\n",
       "       1, 1, 0, 1, 1, 0, 1, 1, 1, 0, 1, 0, 0, 0, 1, 1, 0, 1, 1, 1, 0, 1, 1,\n",
       "       1, 1, 0, 0, 0, 0, 0, 1, 0, 1, 1, 0, 1, 1, 0, 1, 0, 0, 1, 0, 0, 0, 0,\n",
       "       0, 1, 0, 1, 1, 0, 1, 0, 1, 0, 0, 0, 0, 0, 0, 1, 0, 1, 0, 0, 1, 1, 1,\n",
       "       0, 0, 0, 1, 1, 0, 1, 1, 1, 0, 1, 1, 1, 0, 1, 0, 1, 1, 1, 0, 0, 0, 0,\n",
       "       0, 1, 1, 1, 1, 1, 0, 0, 0, 1, 1, 1, 0, 0, 0, 0, 1, 1, 0, 0, 0, 1, 0,\n",
       "       1, 1, 0, 0, 0, 0, 1, 0, 1, 1, 0, 0, 1, 1, 1, 0, 0, 1, 0, 0, 1, 1, 1,\n",
       "       1, 0, 0, 0, 1, 0, 0, 1, 0, 0, 1, 0, 0, 1, 0, 0, 0, 1, 1, 1, 0, 0, 0,\n",
       "       0, 0, 1, 0, 0, 0, 0, 0, 1, 1, 1, 1, 0, 1, 1, 1, 0, 0, 0, 1, 1, 0, 0,\n",
       "       1, 1, 0, 0, 1, 0, 1, 1, 0, 0, 1, 0, 1, 0, 1, 1, 1, 0, 0, 1, 1, 1, 0,\n",
       "       0, 0, 1, 0, 0, 1, 1, 1, 0, 1, 0, 1, 0, 0, 1, 1, 1, 1, 1, 1, 0, 1, 0,\n",
       "       1, 0, 1, 0, 1, 1, 0, 1, 1, 0, 1, 1, 1, 1, 0, 0, 0, 1, 1, 0, 1, 1, 1,\n",
       "       1, 1, 0, 1, 1, 0, 0, 0, 1, 0, 0, 0, 0, 1, 1, 1, 1, 0, 0, 0, 1, 0, 1,\n",
       "       0, 0, 1, 0, 1, 1, 0, 1, 1, 1, 1, 1, 0, 0, 0, 0, 0, 0, 1, 0, 0, 1, 1,\n",
       "       1, 1, 1, 1, 1, 1, 1, 0, 1, 0, 0, 0, 0, 1, 0, 1, 0, 0, 0, 1, 1, 1, 1,\n",
       "       0, 0, 1, 1, 0, 0, 0, 1, 1, 0, 0, 0, 0, 1, 1, 1, 1, 1, 1, 1, 1, 1, 1,\n",
       "       0, 0, 0, 1, 1, 0, 1, 0, 0, 1, 1, 1, 0, 1, 0, 0, 1, 1, 1, 1, 0, 0, 1,\n",
       "       1, 0, 0, 0, 1, 0, 0, 1, 0, 0, 0, 0, 1, 0, 0, 0, 1, 1, 0, 0, 0, 1, 1,\n",
       "       0, 0, 1, 0, 0, 0, 1, 1, 1, 1, 1, 1, 1, 0, 0, 0, 0, 1, 0, 0, 1, 1, 1,\n",
       "       1, 0, 1, 0, 0, 0, 0, 1, 0, 0, 1, 1, 1, 0, 0, 1, 0, 1, 1, 0, 1, 1, 1,\n",
       "       1, 1, 0, 1, 1, 0, 0, 1, 1, 0, 0, 0, 0, 0, 1, 0, 0, 0, 0, 0, 1, 0, 1,\n",
       "       1, 0, 0, 0, 0, 1, 0, 1, 1, 0, 1, 0, 0, 0, 1, 0, 0, 0, 0, 0, 1, 1, 1,\n",
       "       1, 1, 0, 1, 1, 0, 1, 0, 1, 0, 0, 0, 1, 0, 0, 1, 1, 1, 0, 1, 1, 0, 1,\n",
       "       0, 0, 0, 0, 0, 1, 1, 1, 1, 1, 0, 1, 1, 1, 0, 1, 0, 1, 1, 0, 0, 0, 1,\n",
       "       0, 1, 1, 1, 0, 1, 1, 1, 0, 0, 1, 1, 0, 0, 0, 1, 1, 1, 0, 0, 0, 1, 1,\n",
       "       1, 0, 1, 0, 0, 1, 1, 1, 1, 1, 0, 0, 1, 1, 1, 0, 1, 1, 0, 0, 1, 1, 0,\n",
       "       0, 1, 0, 0, 1, 1, 1, 0, 0, 0, 0, 0, 1, 0, 0, 1, 1, 0, 0, 0, 0, 0, 1,\n",
       "       0, 0, 0, 0, 1, 1, 1, 1, 0, 0, 1, 1, 1, 0, 0, 1, 0, 0, 1, 1, 1, 1, 0,\n",
       "       0, 1, 1, 1, 0, 0, 0, 1, 0, 1, 0, 0, 0, 0, 0, 0, 0, 1, 0, 1, 0, 1, 1,\n",
       "       0, 1, 1, 1, 0, 0, 0, 1, 1, 0, 1, 1, 1, 1, 1, 1, 0, 1, 1, 1, 1, 0, 1,\n",
       "       1, 1, 1, 0, 1, 0, 1, 1, 0, 1, 0, 0, 0, 0, 1, 1, 0, 1, 0, 0, 1, 0, 0,\n",
       "       0, 1, 0, 1, 0, 1, 0, 1, 1, 1, 0, 1, 0, 1, 1, 0, 0, 0, 1, 1, 0, 1, 0,\n",
       "       1, 0, 1, 1, 1, 1, 0, 1, 1, 0, 0])"
      ]
     },
     "execution_count": 83,
     "metadata": {},
     "output_type": "execute_result"
    }
   ],
   "source": [
    "sampler = np.random.randint(0, len(ind_names), N)\n",
    "sampler"
   ]
  },
  {
   "cell_type": "code",
   "execution_count": 84,
   "metadata": {
    "collapsed": false
   },
   "outputs": [
    {
     "data": {
      "text/plain": [
       "MYNBI         TECH\n",
       "QPMZJ         TECH\n",
       "PLSGQ         TECH\n",
       "EJEYD    FINANCIAL\n",
       "TZIRW         TECH\n",
       "ZTEJD    FINANCIAL\n",
       "XCVKP    FINANCIAL\n",
       "RDLNK    FINANCIAL\n",
       "TUGRP    FINANCIAL\n",
       "OQIBZ    FINANCIAL\n",
       "RACXM         TECH\n",
       "WZVUA    FINANCIAL\n",
       "TPKHX         TECH\n",
       "KWCGS    FINANCIAL\n",
       "HHZEZ         TECH\n",
       "ROCCK         TECH\n",
       "QPDJR    FINANCIAL\n",
       "JWDRK    FINANCIAL\n",
       "RGZTR         TECH\n",
       "SJOCT         TECH\n",
       "ZMKSH    FINANCIAL\n",
       "JFGFB    FINANCIAL\n",
       "TVIPC         TECH\n",
       "CVYEE    FINANCIAL\n",
       "BCWRV    FINANCIAL\n",
       "MWQIQ    FINANCIAL\n",
       "ZHGVS         TECH\n",
       "NSIOP         TECH\n",
       "VUWZL    FINANCIAL\n",
       "CKTDP    FINANCIAL\n",
       "           ...    \n",
       "XWPSF    FINANCIAL\n",
       "ZSYAT         TECH\n",
       "LGJNC    FINANCIAL\n",
       "HDFZT         TECH\n",
       "OUEPK         TECH\n",
       "OWEPZ         TECH\n",
       "IPKWQ    FINANCIAL\n",
       "XZHYB         TECH\n",
       "LQIMR    FINANCIAL\n",
       "UTDJE         TECH\n",
       "QEECK         TECH\n",
       "GBAPP    FINANCIAL\n",
       "CSQBE    FINANCIAL\n",
       "UOSES    FINANCIAL\n",
       "ICJLE         TECH\n",
       "OLBKD         TECH\n",
       "DTVDJ    FINANCIAL\n",
       "VJSLF         TECH\n",
       "YAVYP    FINANCIAL\n",
       "MMUGC         TECH\n",
       "NIPNV    FINANCIAL\n",
       "PMENZ         TECH\n",
       "GYNUY         TECH\n",
       "GICZE         TECH\n",
       "OKLJZ         TECH\n",
       "ZOKHF    FINANCIAL\n",
       "OEWKZ         TECH\n",
       "HPEDR         TECH\n",
       "STOXK    FINANCIAL\n",
       "FCVKF    FINANCIAL\n",
       "Name: industry, Length: 1000, dtype: object"
      ]
     },
     "execution_count": 84,
     "metadata": {},
     "output_type": "execute_result"
    }
   ],
   "source": [
    "industries = Series(ind_names[sampler], index=tickers,\n",
    "                    name='industry')\n",
    "industries"
   ]
  },
  {
   "cell_type": "code",
   "execution_count": 85,
   "metadata": {
    "collapsed": false
   },
   "outputs": [
    {
     "data": {
      "text/plain": [
       "<pandas.core.groupby.DataFrameGroupBy object at 0x00D51070>"
      ]
     },
     "execution_count": 85,
     "metadata": {},
     "output_type": "execute_result"
    }
   ],
   "source": [
    "by_industry = df.groupby(industries)\n",
    "by_industry"
   ]
  },
  {
   "cell_type": "code",
   "execution_count": 86,
   "metadata": {
    "collapsed": false
   },
   "outputs": [
    {
     "data": {
      "text/html": [
       "<div>\n",
       "<style>\n",
       "    .dataframe thead tr:only-child th {\n",
       "        text-align: right;\n",
       "    }\n",
       "\n",
       "    .dataframe thead th {\n",
       "        text-align: left;\n",
       "    }\n",
       "\n",
       "    .dataframe tbody tr th {\n",
       "        vertical-align: top;\n",
       "    }\n",
       "</style>\n",
       "<table border=\"1\" class=\"dataframe\">\n",
       "  <thead>\n",
       "    <tr style=\"text-align: right;\">\n",
       "      <th></th>\n",
       "      <th>Momentum</th>\n",
       "      <th>ShortInterest</th>\n",
       "      <th>Value</th>\n",
       "    </tr>\n",
       "    <tr>\n",
       "      <th>industry</th>\n",
       "      <th></th>\n",
       "      <th></th>\n",
       "      <th></th>\n",
       "    </tr>\n",
       "  </thead>\n",
       "  <tbody>\n",
       "    <tr>\n",
       "      <th>FINANCIAL</th>\n",
       "      <td>0.029801</td>\n",
       "      <td>-0.019645</td>\n",
       "      <td>0.080338</td>\n",
       "    </tr>\n",
       "    <tr>\n",
       "      <th>TECH</th>\n",
       "      <td>0.029930</td>\n",
       "      <td>-0.019598</td>\n",
       "      <td>0.080291</td>\n",
       "    </tr>\n",
       "  </tbody>\n",
       "</table>\n",
       "</div>"
      ],
      "text/plain": [
       "           Momentum  ShortInterest     Value\n",
       "industry                                    \n",
       "FINANCIAL  0.029801      -0.019645  0.080338\n",
       "TECH       0.029930      -0.019598  0.080291"
      ]
     },
     "execution_count": 86,
     "metadata": {},
     "output_type": "execute_result"
    }
   ],
   "source": [
    "by_industry.mean()"
   ]
  },
  {
   "cell_type": "code",
   "execution_count": 87,
   "metadata": {
    "collapsed": false
   },
   "outputs": [
    {
     "data": {
      "text/html": [
       "<div>\n",
       "<style>\n",
       "    .dataframe thead tr:only-child th {\n",
       "        text-align: right;\n",
       "    }\n",
       "\n",
       "    .dataframe thead th {\n",
       "        text-align: left;\n",
       "    }\n",
       "\n",
       "    .dataframe tbody tr th {\n",
       "        vertical-align: top;\n",
       "    }\n",
       "</style>\n",
       "<table border=\"1\" class=\"dataframe\">\n",
       "  <thead>\n",
       "    <tr>\n",
       "      <th></th>\n",
       "      <th colspan=\"8\" halign=\"left\">Momentum</th>\n",
       "      <th colspan=\"5\" halign=\"left\">ShortInterest</th>\n",
       "      <th colspan=\"8\" halign=\"left\">Value</th>\n",
       "    </tr>\n",
       "    <tr>\n",
       "      <th></th>\n",
       "      <th>count</th>\n",
       "      <th>mean</th>\n",
       "      <th>std</th>\n",
       "      <th>min</th>\n",
       "      <th>25%</th>\n",
       "      <th>50%</th>\n",
       "      <th>75%</th>\n",
       "      <th>max</th>\n",
       "      <th>count</th>\n",
       "      <th>mean</th>\n",
       "      <th>...</th>\n",
       "      <th>75%</th>\n",
       "      <th>max</th>\n",
       "      <th>count</th>\n",
       "      <th>mean</th>\n",
       "      <th>std</th>\n",
       "      <th>min</th>\n",
       "      <th>25%</th>\n",
       "      <th>50%</th>\n",
       "      <th>75%</th>\n",
       "      <th>max</th>\n",
       "    </tr>\n",
       "    <tr>\n",
       "      <th>industry</th>\n",
       "      <th></th>\n",
       "      <th></th>\n",
       "      <th></th>\n",
       "      <th></th>\n",
       "      <th></th>\n",
       "      <th></th>\n",
       "      <th></th>\n",
       "      <th></th>\n",
       "      <th></th>\n",
       "      <th></th>\n",
       "      <th></th>\n",
       "      <th></th>\n",
       "      <th></th>\n",
       "      <th></th>\n",
       "      <th></th>\n",
       "      <th></th>\n",
       "      <th></th>\n",
       "      <th></th>\n",
       "      <th></th>\n",
       "      <th></th>\n",
       "      <th></th>\n",
       "    </tr>\n",
       "  </thead>\n",
       "  <tbody>\n",
       "    <tr>\n",
       "      <th>FINANCIAL</th>\n",
       "      <td>274.0</td>\n",
       "      <td>0.029801</td>\n",
       "      <td>0.005230</td>\n",
       "      <td>0.017784</td>\n",
       "      <td>0.026346</td>\n",
       "      <td>0.029470</td>\n",
       "      <td>0.033490</td>\n",
       "      <td>0.042719</td>\n",
       "      <td>274.0</td>\n",
       "      <td>-0.019645</td>\n",
       "      <td>...</td>\n",
       "      <td>-0.016180</td>\n",
       "      <td>-0.006048</td>\n",
       "      <td>274.0</td>\n",
       "      <td>0.080338</td>\n",
       "      <td>0.005242</td>\n",
       "      <td>0.067116</td>\n",
       "      <td>0.076582</td>\n",
       "      <td>0.080613</td>\n",
       "      <td>0.083982</td>\n",
       "      <td>0.092842</td>\n",
       "    </tr>\n",
       "    <tr>\n",
       "      <th>TECH</th>\n",
       "      <td>226.0</td>\n",
       "      <td>0.029930</td>\n",
       "      <td>0.005297</td>\n",
       "      <td>0.016398</td>\n",
       "      <td>0.026187</td>\n",
       "      <td>0.029723</td>\n",
       "      <td>0.033541</td>\n",
       "      <td>0.043739</td>\n",
       "      <td>226.0</td>\n",
       "      <td>-0.019598</td>\n",
       "      <td>...</td>\n",
       "      <td>-0.015997</td>\n",
       "      <td>-0.005274</td>\n",
       "      <td>226.0</td>\n",
       "      <td>0.080291</td>\n",
       "      <td>0.004997</td>\n",
       "      <td>0.069056</td>\n",
       "      <td>0.076905</td>\n",
       "      <td>0.079861</td>\n",
       "      <td>0.083742</td>\n",
       "      <td>0.092673</td>\n",
       "    </tr>\n",
       "  </tbody>\n",
       "</table>\n",
       "<p>2 rows × 24 columns</p>\n",
       "</div>"
      ],
      "text/plain": [
       "          Momentum                                                    \\\n",
       "             count      mean       std       min       25%       50%   \n",
       "industry                                                               \n",
       "FINANCIAL    274.0  0.029801  0.005230  0.017784  0.026346  0.029470   \n",
       "TECH         226.0  0.029930  0.005297  0.016398  0.026187  0.029723   \n",
       "\n",
       "                              ShortInterest              ...               \\\n",
       "                75%       max         count      mean    ...          75%   \n",
       "industry                                                 ...                \n",
       "FINANCIAL  0.033490  0.042719         274.0 -0.019645    ...    -0.016180   \n",
       "TECH       0.033541  0.043739         226.0 -0.019598    ...    -0.015997   \n",
       "\n",
       "                     Value                                                    \\\n",
       "                max  count      mean       std       min       25%       50%   \n",
       "industry                                                                       \n",
       "FINANCIAL -0.006048  274.0  0.080338  0.005242  0.067116  0.076582  0.080613   \n",
       "TECH      -0.005274  226.0  0.080291  0.004997  0.069056  0.076905  0.079861   \n",
       "\n",
       "                               \n",
       "                75%       max  \n",
       "industry                       \n",
       "FINANCIAL  0.083982  0.092842  \n",
       "TECH       0.083742  0.092673  \n",
       "\n",
       "[2 rows x 24 columns]"
      ]
     },
     "execution_count": 87,
     "metadata": {},
     "output_type": "execute_result"
    }
   ],
   "source": [
    "by_industry.describe()"
   ]
  },
  {
   "cell_type": "code",
   "execution_count": null,
   "metadata": {
    "collapsed": true
   },
   "outputs": [],
   "source": []
  }
 ],
 "metadata": {
  "kernelspec": {
   "display_name": "Python 3",
   "language": "python",
   "name": "python3"
  },
  "language_info": {
   "codemirror_mode": {
    "name": "ipython",
    "version": 3
   },
   "file_extension": ".py",
   "mimetype": "text/x-python",
   "name": "python",
   "nbconvert_exporter": "python",
   "pygments_lexer": "ipython3",
   "version": "3.4.2"
  }
 },
 "nbformat": 4,
 "nbformat_minor": 1
}
